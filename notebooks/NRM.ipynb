{
 "metadata": {
  "language": "Julia",
  "name": "",
  "signature": "sha256:fb7e050561f759fb9e45eea10b91316671a81b82167485b747903ab3a8f64e3f"
 },
 "nbformat": 3,
 "nbformat_minor": 0,
 "worksheets": [
  {
   "cells": [
    {
     "cell_type": "markdown",
     "metadata": {},
     "source": [
      "# Network Revenue Management\n",
      "\n",
      "![Imgur](http://i.imgur.com/jeGwWET.png)\n",
      "\n",
      "The three origin-destination pairs are BOS-MDW, MDW-SFO, or BOS-SFO via MDW. Each O-D pair has a \"regular\" and \"discount\" fare class. The data is\n",
      "\n",
      "```\n",
      "PLANE CAPACITY: 166\n",
      "\n",
      "BOS-MDW\n",
      "        Regular  Discount\n",
      "Price:  428      190\n",
      "Demand: 80       120\n",
      "\n",
      "BOS-SFO\n",
      "        Regular  Discount\n",
      "Price:  642      224\n",
      "Demand: 75       100\n",
      "\n",
      "MDW-SFO\n",
      "        Regular  Discount\n",
      "Price:  512      190\n",
      "Demand: 60       110\n",
      "```\n",
      "\n",
      "Let's load JuMP first"
     ]
    },
    {
     "cell_type": "code",
     "collapsed": false,
     "input": [
      "using JuMP"
     ],
     "language": "python",
     "metadata": {},
     "outputs": [],
     "prompt_number": 1
    },
    {
     "cell_type": "markdown",
     "metadata": {},
     "source": [
      "## Model\n",
      "Now we need to create a `Model`. A `Model` is an object that has associated variables and constraints. We can also pick and customize different solvers to use with the model, but we won't need to do that today. You can read the JuMP manual to learn more about changing solvers. If you don't specify a solver, JuMP picks a suitable installed solver."
     ]
    },
    {
     "cell_type": "code",
     "collapsed": false,
     "input": [
      "nrm = Model()"
     ],
     "language": "python",
     "metadata": {},
     "outputs": [
      {
       "latex": [
        "$$ \\begin{alignat*}{1}\\min\\quad & 0\\\\\n",
        "\\text{Subject to} \\quad\\end{alignat*}\n",
        " $$"
       ],
       "metadata": {},
       "output_type": "pyout",
       "prompt_number": 2,
       "text": [
        "Feasibility problem with:\n",
        " * 0 linear constraints\n",
        " * 0 variables\n",
        "Solver set to Default"
       ]
      }
     ],
     "prompt_number": 2
    },
    {
     "cell_type": "markdown",
     "metadata": {},
     "source": [
      "## Variables\n",
      "Now we can create our variables, in the optimization sense. Variables have a name, bounds, and type. For this problem, we need six continuous variables, each with a lower and upper bound on their value."
     ]
    },
    {
     "cell_type": "code",
     "collapsed": false,
     "input": [
      "@defVar(nrm, 0 <= BOStoMDW_R <= 80)\n",
      "@defVar(nrm, 0 <= BOStoMDW_D <= 120)\n",
      "@defVar(nrm, 0 <= BOStoSFO_R <= 75)\n",
      "@defVar(nrm, 0 <= BOStoSFO_D <= 100)\n",
      "@defVar(nrm, 0 <= MDWtoSFO_R <= 60)\n",
      "@defVar(nrm, 0 <= MDWtoSFO_D <= 110)"
     ],
     "language": "python",
     "metadata": {},
     "outputs": [
      {
       "latex": [
        "$$ MDWtoSFO_D $$"
       ],
       "metadata": {},
       "output_type": "pyout",
       "prompt_number": 3,
       "text": [
        "MDWtoSFO_D"
       ]
      }
     ],
     "prompt_number": 3
    },
    {
     "cell_type": "code",
     "collapsed": false,
     "input": [
      "nrm"
     ],
     "language": "python",
     "metadata": {},
     "outputs": [
      {
       "latex": [
        "$$ \\begin{alignat*}{1}\\min\\quad & 0\\\\\n",
        "\\text{Subject to} \\quad & 0 \\leq BOStoMDW_R \\leq 80\\\\\n",
        " & 0 \\leq BOStoMDW_D \\leq 120\\\\\n",
        " & 0 \\leq BOStoSFO_R \\leq 75\\\\\n",
        " & 0 \\leq BOStoSFO_D \\leq 100\\\\\n",
        " & 0 \\leq MDWtoSFO_R \\leq 60\\\\\n",
        " & 0 \\leq MDWtoSFO_D \\leq 110\\\\\n",
        "\\end{alignat*}\n",
        " $$"
       ],
       "metadata": {},
       "output_type": "pyout",
       "prompt_number": 4,
       "text": [
        "Feasibility problem with:\n",
        " * 0 linear constraints\n",
        " * 6 variables\n",
        "Solver set to Default"
       ]
      }
     ],
     "prompt_number": 4
    },
    {
     "cell_type": "markdown",
     "metadata": {},
     "source": [
      "## Objective\n",
      "The objective is to maximize the revenue. We need to use `@setObjective`, which takes three arguments: the model, the sense (`Max` or `Min`), and the expression."
     ]
    },
    {
     "cell_type": "code",
     "collapsed": false,
     "input": [
      "@setObjective(nrm, Max, 428*BOStoMDW_R + 190*BOStoMDW_D +\n",
      "                        642*BOStoSFO_R + 224*BOStoSFO_D +\n",
      "                        512*MDWtoSFO_R + 190*MDWtoSFO_D)"
     ],
     "language": "python",
     "metadata": {},
     "outputs": [
      {
       "latex": [
        "$$ 428 BOStoMDW_R + 190 BOStoMDW_D + 642 BOStoSFO_R + 224 BOStoSFO_D + 512 MDWtoSFO_R + 190 MDWtoSFO_D $$"
       ],
       "metadata": {},
       "output_type": "pyout",
       "prompt_number": 5,
       "text": [
        "428 BOStoMDW_R + 190 BOStoMDW_D + 642 BOStoSFO_R + 224 BOStoSFO_D + 512 MDWtoSFO_R + 190 MDWtoSFO_D"
       ]
      }
     ],
     "prompt_number": 5
    },
    {
     "cell_type": "markdown",
     "metadata": {},
     "source": [
      "## Constraints\n",
      "We have two constraints: that the number of people on each flight is less than the capacity of the planes. We add constraints with `@addConstraint`, which takes two arguments: the model, and an expression with an inequality in it: `<=`, `==`, `>=`"
     ]
    },
    {
     "cell_type": "code",
     "collapsed": false,
     "input": [
      "@addConstraint(nrm, BOStoMDW_R + BOStoMDW_D + \n",
      "                    BOStoSFO_R + BOStoSFO_D <= 166)"
     ],
     "language": "python",
     "metadata": {},
     "outputs": [
      {
       "latex": [
        "$$ BOStoMDW_R + BOStoMDW_D + BOStoSFO_R + BOStoSFO_D \\leq 166 $$"
       ],
       "metadata": {},
       "output_type": "pyout",
       "prompt_number": 6,
       "text": [
        "BOStoMDW_R + BOStoMDW_D + BOStoSFO_R + BOStoSFO_D \u2264 166"
       ]
      }
     ],
     "prompt_number": 6
    },
    {
     "cell_type": "code",
     "collapsed": false,
     "input": [
      "@addConstraint(nrm, MDWtoSFO_R + MDWtoSFO_D + \n",
      "                    BOStoSFO_R + BOStoSFO_D <= 166)"
     ],
     "language": "python",
     "metadata": {},
     "outputs": [
      {
       "latex": [
        "$$ MDWtoSFO_R + MDWtoSFO_D + BOStoSFO_R + BOStoSFO_D \\leq 166 $$"
       ],
       "metadata": {},
       "output_type": "pyout",
       "prompt_number": 7,
       "text": [
        "MDWtoSFO_R + MDWtoSFO_D + BOStoSFO_R + BOStoSFO_D \u2264 166"
       ]
      }
     ],
     "prompt_number": 7
    },
    {
     "cell_type": "markdown",
     "metadata": {},
     "source": [
      "## Solve\n",
      "The easy part! Lets check out the finished model before solving it. We didn't specify a solver before, but JuMP knows we have the LP solve `Clp` installed, so it will use that."
     ]
    },
    {
     "cell_type": "code",
     "collapsed": false,
     "input": [
      "nrm"
     ],
     "language": "python",
     "metadata": {},
     "outputs": [
      {
       "latex": [
        "$$ \\begin{alignat*}{1}\\max\\quad & 428 BOStoMDW_R + 190 BOStoMDW_D + 642 BOStoSFO_R + 224 BOStoSFO_D + 512 MDWtoSFO_R + 190 MDWtoSFO_D\\\\\n",
        "\\text{Subject to} \\quad & BOStoMDW_R + BOStoMDW_D + BOStoSFO_R + BOStoSFO_D \\leq 166\\\\\n",
        " & MDWtoSFO_R + MDWtoSFO_D + BOStoSFO_R + BOStoSFO_D \\leq 166\\\\\n",
        " & 0 \\leq BOStoMDW_R \\leq 80\\\\\n",
        " & 0 \\leq BOStoMDW_D \\leq 120\\\\\n",
        " & 0 \\leq BOStoSFO_R \\leq 75\\\\\n",
        " & 0 \\leq BOStoSFO_D \\leq 100\\\\\n",
        " & 0 \\leq MDWtoSFO_R \\leq 60\\\\\n",
        " & 0 \\leq MDWtoSFO_D \\leq 110\\\\\n",
        "\\end{alignat*}\n",
        " $$"
       ],
       "metadata": {},
       "output_type": "pyout",
       "prompt_number": 8,
       "text": [
        "Maximization problem with:\n",
        " * 2 linear constraints\n",
        " * 6 variables\n",
        "Solver set to Default"
       ]
      }
     ],
     "prompt_number": 8
    },
    {
     "cell_type": "code",
     "collapsed": false,
     "input": [
      "solve(nrm)"
     ],
     "language": "python",
     "metadata": {},
     "outputs": [
      {
       "metadata": {},
       "output_type": "pyout",
       "prompt_number": 9,
       "text": [
        ":Optimal"
       ]
      }
     ],
     "prompt_number": 9
    },
    {
     "cell_type": "markdown",
     "metadata": {},
     "source": [
      "## Inspect the solution\n",
      "We can use `getValue()` to inspect the value of solutions"
     ]
    },
    {
     "cell_type": "code",
     "collapsed": false,
     "input": [
      "getValue(BOStoMDW_R)"
     ],
     "language": "python",
     "metadata": {},
     "outputs": [
      {
       "metadata": {},
       "output_type": "pyout",
       "prompt_number": 10,
       "text": [
        "80.0"
       ]
      }
     ],
     "prompt_number": 10
    },
    {
     "cell_type": "code",
     "collapsed": false,
     "input": [
      "getValue(BOStoMDW_D)"
     ],
     "language": "python",
     "metadata": {},
     "outputs": [
      {
       "metadata": {},
       "output_type": "pyout",
       "prompt_number": 11,
       "text": [
        "11.0"
       ]
      }
     ],
     "prompt_number": 11
    },
    {
     "cell_type": "code",
     "collapsed": false,
     "input": [
      "getObjectiveValue(nrm)"
     ],
     "language": "python",
     "metadata": {},
     "outputs": [
      {
       "metadata": {},
       "output_type": "pyout",
       "prompt_number": 12,
       "text": [
        "121090.0"
       ]
      }
     ],
     "prompt_number": 12
    },
    {
     "cell_type": "markdown",
     "metadata": {},
     "source": [
      "## Generalizing the NRM\n",
      "\n",
      "This model was simple enough, but what happens when we add more origins and destinations?\n",
      "\n",
      "Hard-coding every variable would be painful - it'd be better to *index* the variables. Lets consider a generalized problem where there are flights in both directions. We'll also add YYZ - Toronto!\n",
      "\n",
      "We are going to generate random data - if you don't understand all of this, thats OK."
     ]
    },
    {
     "cell_type": "code",
     "collapsed": false,
     "input": [
      "srand(1988)  # Set the random seed to ensure we always\n",
      "             # get the same stream of random numbers\n",
      "airports = [:BOS, :MDW, :SFO, :YYZ]  # An array of symbols\n",
      "num_airport = length(airports)\n",
      "classes = [:REG, :DIS]\n",
      "demand = Dict()  # Dictionaries: a mapping between...\n",
      "prices = Dict()  # ... keys and values\n",
      "# Generate a demand and price for each pair of airports\n",
      "# We'll generate data for the BOS-BOS, SFO-SFO \n",
      "# combination but it won't appear in our model\n",
      "for origin in airports\n",
      "    for dest in airports\n",
      "        demand[(origin,dest,:REG)] = rand(50:90)    # Random integer between 50 and 90\n",
      "        demand[(origin,dest,:DIS)] = rand(100:130)\n",
      "        prices[(origin,dest,:REG)] = rand(400:700)\n",
      "        prices[(origin,dest,:DIS)] = rand(150:300)\n",
      "    end\n",
      "end\n",
      "# Capacity of the plane\n",
      "plane_cap = rand(150:200)\n",
      "@show demand[(:BOS,:SFO,:REG)]"
     ],
     "language": "python",
     "metadata": {},
     "outputs": [
      {
       "output_type": "stream",
       "stream": "stdout",
       "text": [
        "demand[(:BOS,:SFO,:REG)] => 68"
       ]
      },
      {
       "output_type": "stream",
       "stream": "stdout",
       "text": [
        "\n"
       ]
      },
      {
       "metadata": {},
       "output_type": "pyout",
       "prompt_number": 13,
       "text": [
        "68"
       ]
      }
     ],
     "prompt_number": 13
    },
    {
     "cell_type": "code",
     "collapsed": false,
     "input": [
      "nrm2 = Model()\n",
      "# Create a variable indexed by 3 things:\n",
      "# * Origin\n",
      "# * Destination\n",
      "# * Class\n",
      "# And set the upper bound for each variable differently\n",
      "# by looking up the correct demand in a dictionary\n",
      "@defVar(nrm2, 0 <= x[o=airports,d=airports,c=classes] <= demand[(o,d,c)])"
     ],
     "language": "python",
     "metadata": {},
     "outputs": [
      {
       "latex": [
        "$$ 0 \\leq x_{o,d,c} \\leq .. \\quad\\forall o \\in \\{BOS,MDW,SFO,YYZ\\}, d \\in \\{BOS,MDW,SFO,YYZ\\}, c \\in \\{REG,DIS\\} $$"
       ],
       "metadata": {},
       "output_type": "pyout",
       "prompt_number": 14,
       "text": [
        "0 \u2264 x[o,d,c] \u2264 .. for all o in {BOS,MDW,SFO,YYZ}, d in {BOS,MDW,SFO,YYZ}, c in {REG,DIS}"
       ]
      }
     ],
     "prompt_number": 14
    },
    {
     "cell_type": "code",
     "collapsed": false,
     "input": [
      "@setObjective(nrm2, Max, sum{prices[(o,d,c)]*x[o,d,c], \n",
      "    o in airports, d in airports, c in classes; o != d})"
     ],
     "language": "python",
     "metadata": {},
     "outputs": [
      {
       "latex": [
        "$$ 551 x_{BOS,MDW,REG} + 243 x_{BOS,MDW,DIS} + 677 x_{BOS,SFO,REG} + 198 x_{BOS,SFO,DIS} + 697 x_{BOS,YYZ,REG} + 163 x_{BOS,YYZ,DIS} + 450 x_{MDW,BOS,REG} + 254 x_{MDW,BOS,DIS} + 534 x_{MDW,SFO,REG} + 237 x_{MDW,SFO,DIS} + 556 x_{MDW,YYZ,REG} + 158 x_{MDW,YYZ,DIS} + 587 x_{SFO,BOS,REG} + 256 x_{SFO,BOS,DIS} + 593 x_{SFO,MDW,REG} + 249 x_{SFO,MDW,DIS} + 674 x_{SFO,YYZ,REG} + 236 x_{SFO,YYZ,DIS} + 407 x_{YYZ,BOS,REG} + 157 x_{YYZ,BOS,DIS} + 647 x_{YYZ,MDW,REG} + 247 x_{YYZ,MDW,DIS} + 658 x_{YYZ,SFO,REG} + 285 x_{YYZ,SFO,DIS} $$"
       ],
       "metadata": {},
       "output_type": "pyout",
       "prompt_number": 15,
       "text": [
        "551 x[BOS,MDW,REG] + 243 x[BOS,MDW,DIS] + 677 x[BOS,SFO,REG] + 198 x[BOS,SFO,DIS] + 697 x[BOS,YYZ,REG] + 163 x[BOS,YYZ,DIS] + 450 x[MDW,BOS,REG] + 254 x[MDW,BOS,DIS] + 534 x[MDW,SFO,REG] + 237 x[MDW,SFO,DIS] + 556 x[MDW,YYZ,REG] + 158 x[MDW,YYZ,DIS] + 587 x[SFO,BOS,REG] + 256 x[SFO,BOS,DIS] + 593 x[SFO,MDW,REG] + 249 x[SFO,MDW,DIS] + 674 x[SFO,YYZ,REG] + 236 x[SFO,YYZ,DIS] + 407 x[YYZ,BOS,REG] + 157 x[YYZ,BOS,DIS] + 647 x[YYZ,MDW,REG] + 247 x[YYZ,MDW,DIS] + 658 x[YYZ,SFO,REG] + 285 x[YYZ,SFO,DIS]"
       ]
      }
     ],
     "prompt_number": 15
    },
    {
     "cell_type": "code",
     "collapsed": false,
     "input": [
      "# Flights from hub to outer\n",
      "for d in airports\n",
      "    if d == :MDW\n",
      "        continue\n",
      "    end\n",
      "    println(\"Adding constraint for hub (MDW) to $d\")\n",
      "    @addConstraint(nrm2, \n",
      "        sum{x[o,d,c],o in airports,c in classes; o!=d} <= plane_cap)\n",
      "end"
     ],
     "language": "python",
     "metadata": {},
     "outputs": [
      {
       "output_type": "stream",
       "stream": "stdout",
       "text": [
        "Adding constraint for hub (MDW) to BOS\n"
       ]
      },
      {
       "output_type": "stream",
       "stream": "stdout",
       "text": [
        "Adding constraint for hub (MDW) to SFO\n",
        "Adding constraint for hub (MDW) to YYZ\n"
       ]
      }
     ],
     "prompt_number": 16
    },
    {
     "cell_type": "code",
     "collapsed": false,
     "input": [
      "nrm2"
     ],
     "language": "python",
     "metadata": {},
     "outputs": [
      {
       "latex": [
        "$$ \\begin{alignat*}{1}\\max\\quad & 551 x_{BOS,MDW,REG} + 243 x_{BOS,MDW,DIS} + 677 x_{BOS,SFO,REG} + 198 x_{BOS,SFO,DIS} + 697 x_{BOS,YYZ,REG} + 163 x_{BOS,YYZ,DIS} + 450 x_{MDW,BOS,REG} + 254 x_{MDW,BOS,DIS} + 534 x_{MDW,SFO,REG} + 237 x_{MDW,SFO,DIS} + 556 x_{MDW,YYZ,REG} + 158 x_{MDW,YYZ,DIS} + 587 x_{SFO,BOS,REG} + 256 x_{SFO,BOS,DIS} + 593 x_{SFO,MDW,REG} + 249 x_{SFO,MDW,DIS} + 674 x_{SFO,YYZ,REG} + 236 x_{SFO,YYZ,DIS} + 407 x_{YYZ,BOS,REG} + 157 x_{YYZ,BOS,DIS} + 647 x_{YYZ,MDW,REG} + 247 x_{YYZ,MDW,DIS} + 658 x_{YYZ,SFO,REG} + 285 x_{YYZ,SFO,DIS}\\\\\n",
        "\\text{Subject to} \\quad & x_{MDW,BOS,REG} + x_{MDW,BOS,DIS} + x_{SFO,BOS,REG} + x_{SFO,BOS,DIS} + x_{YYZ,BOS,REG} + x_{YYZ,BOS,DIS} \\leq 182\\\\\n",
        " & x_{BOS,SFO,REG} + x_{BOS,SFO,DIS} + x_{MDW,SFO,REG} + x_{MDW,SFO,DIS} + x_{YYZ,SFO,REG} + x_{YYZ,SFO,DIS} \\leq 182\\\\\n",
        " & x_{BOS,YYZ,REG} + x_{BOS,YYZ,DIS} + x_{MDW,YYZ,REG} + x_{MDW,YYZ,DIS} + x_{SFO,YYZ,REG} + x_{SFO,YYZ,DIS} \\leq 182\\\\\n",
        " & 0 \\leq x_{o,d,c} \\leq .. \\quad\\forall o \\in \\{BOS,MDW,SFO,YYZ\\}, d \\in \\{BOS,MDW,SFO,YYZ\\}, c \\in \\{REG,DIS\\}\\\\\n",
        "\\end{alignat*}\n",
        " $$"
       ],
       "metadata": {},
       "output_type": "pyout",
       "prompt_number": 17,
       "text": [
        "Maximization problem with:\n",
        " * 3 linear constraints\n",
        " * 32 variables\n",
        "Solver set to Default"
       ]
      }
     ],
     "prompt_number": 17
    },
    {
     "cell_type": "code",
     "collapsed": false,
     "input": [
      "# Flights from outer to hub\n",
      "for o in airports\n",
      "    if o == :MDW\n",
      "        continue\n",
      "    end\n",
      "    println(\"Adding constraint for $o to hub (MDW)\")\n",
      "    @addConstraint(nrm2, \n",
      "        sum{x[o,d,c],d in airports,c in classes; o!=d} <= plane_cap)\n",
      "end"
     ],
     "language": "python",
     "metadata": {},
     "outputs": [
      {
       "output_type": "stream",
       "stream": "stdout",
       "text": [
        "Adding constraint for BOS to hub (MDW)\n"
       ]
      },
      {
       "output_type": "stream",
       "stream": "stdout",
       "text": [
        "Adding constraint for SFO to hub (MDW)\n",
        "Adding constraint for YYZ to hub (MDW)\n"
       ]
      }
     ],
     "prompt_number": 18
    },
    {
     "cell_type": "code",
     "collapsed": false,
     "input": [
      "nrm2"
     ],
     "language": "python",
     "metadata": {},
     "outputs": [
      {
       "latex": [
        "$$ \\begin{alignat*}{1}\\max\\quad & 551 x_{BOS,MDW,REG} + 243 x_{BOS,MDW,DIS} + 677 x_{BOS,SFO,REG} + 198 x_{BOS,SFO,DIS} + 697 x_{BOS,YYZ,REG} + 163 x_{BOS,YYZ,DIS} + 450 x_{MDW,BOS,REG} + 254 x_{MDW,BOS,DIS} + 534 x_{MDW,SFO,REG} + 237 x_{MDW,SFO,DIS} + 556 x_{MDW,YYZ,REG} + 158 x_{MDW,YYZ,DIS} + 587 x_{SFO,BOS,REG} + 256 x_{SFO,BOS,DIS} + 593 x_{SFO,MDW,REG} + 249 x_{SFO,MDW,DIS} + 674 x_{SFO,YYZ,REG} + 236 x_{SFO,YYZ,DIS} + 407 x_{YYZ,BOS,REG} + 157 x_{YYZ,BOS,DIS} + 647 x_{YYZ,MDW,REG} + 247 x_{YYZ,MDW,DIS} + 658 x_{YYZ,SFO,REG} + 285 x_{YYZ,SFO,DIS}\\\\\n",
        "\\text{Subject to} \\quad & x_{MDW,BOS,REG} + x_{MDW,BOS,DIS} + x_{SFO,BOS,REG} + x_{SFO,BOS,DIS} + x_{YYZ,BOS,REG} + x_{YYZ,BOS,DIS} \\leq 182\\\\\n",
        " & x_{BOS,SFO,REG} + x_{BOS,SFO,DIS} + x_{MDW,SFO,REG} + x_{MDW,SFO,DIS} + x_{YYZ,SFO,REG} + x_{YYZ,SFO,DIS} \\leq 182\\\\\n",
        " & x_{BOS,YYZ,REG} + x_{BOS,YYZ,DIS} + x_{MDW,YYZ,REG} + x_{MDW,YYZ,DIS} + x_{SFO,YYZ,REG} + x_{SFO,YYZ,DIS} \\leq 182\\\\\n",
        " & x_{BOS,MDW,REG} + x_{BOS,MDW,DIS} + x_{BOS,SFO,REG} + x_{BOS,SFO,DIS} + x_{BOS,YYZ,REG} + x_{BOS,YYZ,DIS} \\leq 182\\\\\n",
        " & x_{SFO,BOS,REG} + x_{SFO,BOS,DIS} + x_{SFO,MDW,REG} + x_{SFO,MDW,DIS} + x_{SFO,YYZ,REG} + x_{SFO,YYZ,DIS} \\leq 182\\\\\n",
        " & x_{YYZ,BOS,REG} + x_{YYZ,BOS,DIS} + x_{YYZ,MDW,REG} + x_{YYZ,MDW,DIS} + x_{YYZ,SFO,REG} + x_{YYZ,SFO,DIS} \\leq 182\\\\\n",
        " & 0 \\leq x_{o,d,c} \\leq .. \\quad\\forall o \\in \\{BOS,MDW,SFO,YYZ\\}, d \\in \\{BOS,MDW,SFO,YYZ\\}, c \\in \\{REG,DIS\\}\\\\\n",
        "\\end{alignat*}\n",
        " $$"
       ],
       "metadata": {},
       "output_type": "pyout",
       "prompt_number": 19,
       "text": [
        "Maximization problem with:\n",
        " * 6 linear constraints\n",
        " * 32 variables\n",
        "Solver set to Default"
       ]
      }
     ],
     "prompt_number": 19
    },
    {
     "cell_type": "code",
     "collapsed": false,
     "input": [
      "solve(nrm2)"
     ],
     "language": "python",
     "metadata": {},
     "outputs": [
      {
       "metadata": {},
       "output_type": "pyout",
       "prompt_number": 20,
       "text": [
        ":Optimal"
       ]
      }
     ],
     "prompt_number": 20
    },
    {
     "cell_type": "code",
     "collapsed": false,
     "input": [
      "getValue(x)"
     ],
     "language": "python",
     "metadata": {},
     "outputs": [
      {
       "metadata": {},
       "output_type": "pyout",
       "prompt_number": 21,
       "text": [
        "x: 3 dimensions, 32 entries:\n",
        " [BOS,BOS,DIS] = 0.0\n",
        " [BOS,BOS,REG] = 0.0\n",
        " [BOS,MDW,DIS] = 0.0\n",
        " [BOS,MDW,REG] = 55.0\n",
        " [BOS,SFO,DIS] = 0.0\n",
        " [BOS,SFO,REG] = 46.0\n",
        " [BOS,YYZ,DIS] = 0.0\n",
        " [BOS,YYZ,REG] = 81.0\n",
        " [MDW,BOS,DIS] = 42.0\n",
        " [MDW,BOS,REG] = 86.0\n",
        " [MDW,MDW,DIS] = 0.0\n",
        " [MDW,MDW,REG] = 0.0\n",
        " [MDW,SFO,DIS] = 0.0\n",
        " [MDW,SFO,REG] = 75.0\n",
        " [MDW,YYZ,DIS] = 0.0\n",
        " [MDW,YYZ,REG] = 63.0\n",
        " [SFO,BOS,DIS] = 0.0\n",
        " [SFO,BOS,REG] = 54.0\n",
        " [SFO,MDW,DIS] = 0.0\n",
        " [SFO,MDW,REG] = 90.0\n",
        " [SFO,SFO,DIS] = 0.0\n",
        " [SFO,SFO,REG] = 0.0\n",
        " [SFO,YYZ,DIS] = 0.0\n",
        " [SFO,YYZ,REG] = 38.0\n",
        " [YYZ,BOS,DIS] = 0.0\n",
        " [YYZ,BOS,REG] = 0.0\n",
        " [YYZ,MDW,DIS] = 59.0\n",
        " [YYZ,MDW,REG] = 62.0\n",
        " [YYZ,SFO,DIS] = 0.0\n",
        " [YYZ,SFO,REG] = 61.0\n",
        " [YYZ,YYZ,DIS] = 0.0\n",
        " [YYZ,YYZ,REG] = 0.0"
       ]
      }
     ],
     "prompt_number": 21
    },
    {
     "cell_type": "code",
     "collapsed": false,
     "input": [],
     "language": "python",
     "metadata": {},
     "outputs": []
    }
   ],
   "metadata": {}
  }
 ]
}