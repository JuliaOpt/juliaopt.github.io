{
 "cells": [
  {
   "cell_type": "markdown",
   "metadata": {},
   "source": [
    "# JuMP Developers Meetup\n",
    "\n",
    "**Description**: This notebook gives a quick overview of the process for extension packages to work with [JuMP](https://github.com/JuliaOpt/JuMP.jl)'s macros, and was done for the JuMP developers meetup event in June 2017. We begin with a few code snippets to illustrate the general concept, and then have a quick peek under the hood of what happens in a JuMP macro call.\n",
    "\n",
    "**Author**: [Yeesian Ng](https://github.com/yeesian)\n",
    "\n",
    "**License**:\n",
    "\n",
    "![](https://camo.githubusercontent.com/e170e276291254896665fa8f612b99fe5b7dd005/68747470733a2f2f692e6372656174697665636f6d6d6f6e732e6f72672f6c2f62792d73612f342e302f38387833312e706e67)\n",
    "\n",
    "This work is licensed under a [Creative Commons Attribution-ShareAlike 4.0 International License](https://creativecommons.org/licenses/by-sa/4.0/)."
   ]
  },
  {
   "cell_type": "markdown",
   "metadata": {
    "slideshow": {
     "slide_type": "slide"
    }
   },
   "source": [
    "# My first interaction with the juliaopt developers\n",
    "\n",
    "https://www.or-exchange.org/questions/8616/ann-jump-07-algebraic-modeling-language-in-julia"
   ]
  },
  {
   "cell_type": "markdown",
   "metadata": {
    "nbpresent": {
     "id": "c3ada4a7-a3ad-4f3d-ac49-34c69b04312e"
    },
    "slideshow": {
     "slide_type": "slide"
    }
   },
   "source": [
    "# Overview\n",
    "\n",
    "- **Why Macros?**\n",
    "- **Quick Example**\n",
    "    - src/macros.jl\n",
    "        - `@variable` (implementation: 250lines)\n",
    "        - `@constraint` (implementation: 150lines)\n",
    "    - some utilities in JuMP\n",
    "        - for parsing and modifying expressions\n",
    "        - \"high-level-interface\" to MathProgBase\n",
    "- **What we talk about when we talk about JuMP**\n",
    "    - src/solvers.jl\n",
    "        - `solve()` (implementation: 150lines)\n",
    "        - `build()` (implementation 120lines)\n",
    "    - src/JuMP.jl\n",
    "        - type Model (63lines)\n",
    "        - what is [`AbstractModel`](https://github.com/JuliaOpt/JuMP.jl/blob/9a32caff1684954fb377403aeccf77ecfb60d13f/src/JuMP.jl#L62)?? or [`AbstractConstraint`](https://github.com/JuliaOpt/JuMP.jl/blob/9a32caff1684954fb377403aeccf77ecfb60d13f/src/JuMP.jl#L322-L324) or [`AbstractJuMPScalar`](https://github.com/JuliaOpt/JuMP.jl/blob/9a32caff1684954fb377403aeccf77ecfb60d13f/src/JuMP.jl#L325-L327)\n",
    "            - https://github.com/JuliaOpt/JuMP.jl/issues/713"
   ]
  },
  {
   "cell_type": "markdown",
   "metadata": {
    "nbpresent": {
     "id": "f2d4ad91-992a-4b00-b045-9bc13066832e"
    },
    "slideshow": {
     "slide_type": "slide"
    }
   },
   "source": [
    "# Why Macros?\n",
    "\n",
    "## cleaner syntax\n",
    "You might be [currently writing code](https://github.com/lanl-ansi/PowerModels.jl/blob/4be9bf408e6563e7c3160fdb76e96358f0cef4ea/src/form/dcp.jl#L111-L115) like\n",
    "\n",
    "```\n",
    "p_fr = PowerModels.getvariable(pm.model, :p)[f_idx]\n",
    "t_fr = PowerModels.getvariable(pm.model, :t)[f_bus]\n",
    "t_to = PowerModels.getvariable(pm.model, :t)[t_bus]\n",
    "JuMP.@constraint(pm.model, p_fr == -b*(t_fr - t_to))\n",
    "```\n",
    "\n",
    "when you prefer to be writing code like\n",
    "\n",
    "```\n",
    "PM.@constraint(pm, p[f_idx] == -b*(t[f_bus] - t[t_bus]))\n",
    "```"
   ]
  },
  {
   "cell_type": "markdown",
   "metadata": {
    "nbpresent": {
     "id": "a6366a1e-8427-47d6-a275-43694cb57bac"
    },
    "slideshow": {
     "slide_type": "slide"
    }
   },
   "source": [
    "## some correlation between developers who understand JuMP's Macros\n",
    "\n",
    "![](contributors.png)"
   ]
  },
  {
   "cell_type": "markdown",
   "metadata": {
    "nbpresent": {
     "id": "054d5967-225a-4a81-b1f6-b2db6b32a539"
    },
    "slideshow": {
     "slide_type": "subslide"
    }
   },
   "source": [
    "## and those who go on to write macros in their extensions\n",
    "\n",
    "- **mlubin**: https://github.com/mlubin/JuMPChance.jl\n",
    "- **joehuchette**: https://github.com/StructJuMP/StructJuMP.jl\n",
    "- **IainNZ**: https://github.com/IainNZ/JuMPeR.jl\n",
    "- **blegat**: https://github.com/JuliaOpt/PolyJuMP.jl\n",
    "- **odow**: https://github.com/odow/SDDP.jl"
   ]
  },
  {
   "cell_type": "markdown",
   "metadata": {
    "nbpresent": {
     "id": "1da0fae4-9143-4fc7-b742-1a7671e4c3c6"
    },
    "slideshow": {
     "slide_type": "slide"
    }
   },
   "source": [
    "# Quick Example"
   ]
  },
  {
   "cell_type": "code",
   "execution_count": 1,
   "metadata": {
    "collapsed": false,
    "nbpresent": {
     "id": "c80e4f76-b139-4a09-a0ac-9e7334cabf23"
    },
    "slideshow": {
     "slide_type": "fragment"
    }
   },
   "outputs": [
    {
     "data": {
      "text/plain": [
       "true"
      ]
     },
     "execution_count": 1,
     "metadata": {},
     "output_type": "execute_result"
    }
   ],
   "source": [
    "import JuMPChance, Distributions\n",
    "\n",
    "m = JuMPChance.ChanceModel()\n",
    "JuMPChance.@indepnormal(m, x, mean=0, var=1)\n",
    "\n",
    "JuMP.@variable(m, z)\n",
    "JuMP.@objective(m, Min, z)\n",
    "JuMP.@constraint(m, z*x >= -1, with_probability=0.95)\n",
    "\n",
    "JuMP.solve(m, method=:Reformulate, silent=true)\n",
    "isapprox(\n",
    "    JuMP.getvalue(z),\n",
    "    -1/Distributions.quantile(Distributions.Normal(0,1),0.95)\n",
    ")"
   ]
  },
  {
   "cell_type": "markdown",
   "metadata": {
    "nbpresent": {
     "id": "847c5889-0224-4ebd-9833-8e00aa3c69c0"
    },
    "slideshow": {
     "slide_type": "slide"
    }
   },
   "source": [
    "# Working with JuMP's Macro Utilities\n",
    "A quick tour through JuMPChance's [`@indepnormal` macro](https://github.com/mlubin/JuMPChance.jl/blob/8b4d3628146672d1178eb1fb0b2050b0a0e4ca4d/src/macros.jl#L3-L42).\n",
    "\n",
    "## (1) Expressions and Evaluation\n",
    "\n",
    "we begin with the following macro call:"
   ]
  },
  {
   "cell_type": "code",
   "execution_count": 2,
   "metadata": {
    "collapsed": false,
    "nbpresent": {
     "id": "511d1cad-c82e-4625-ae12-f40e6b8351f2"
    },
    "slideshow": {
     "slide_type": "fragment"
    }
   },
   "outputs": [
    {
     "data": {
      "text/plain": [
       "(:m,:x,:(mean=1),:(var=1))"
      ]
     },
     "execution_count": 2,
     "metadata": {},
     "output_type": "execute_result"
    }
   ],
   "source": [
    "macro indepnormal(m, x, mean, var)\n",
    "    m, x, mean, var\n",
    "end\n",
    "\n",
    "m, x, mean, var = @indepnormal(m, x, mean=1, var=1)"
   ]
  },
  {
   "cell_type": "markdown",
   "metadata": {
    "nbpresent": {
     "id": "cf401ba0-83c7-44bc-8646-9f059bc9e1e7"
    },
    "slideshow": {
     "slide_type": "fragment"
    }
   },
   "source": [
    "that we'd like to rewrite into code like the following:"
   ]
  },
  {
   "cell_type": "code",
   "execution_count": 3,
   "metadata": {
    "collapsed": false,
    "nbpresent": {
     "id": "2dafe721-a5d9-4867-9cb5-c29c9fe62825"
    },
    "slideshow": {
     "slide_type": "fragment"
    }
   },
   "outputs": [
    {
     "data": {
      "text/plain": [
       "quote  # In[3], line 2:\n",
       "    x = IndepNormal(m,mean=1,var=1,\"x\")\n",
       "end"
      ]
     },
     "execution_count": 3,
     "metadata": {},
     "output_type": "execute_result"
    }
   ],
   "source": [
    "quote\n",
    "    $x = IndepNormal($m,$mean,$var,$(string(x)))\n",
    "end"
   ]
  },
  {
   "cell_type": "markdown",
   "metadata": {
    "nbpresent": {
     "id": "0cdc900e-dfc0-4cba-8583-cadb92ca68c0"
    },
    "slideshow": {
     "slide_type": "subslide"
    }
   },
   "source": [
    "### Macro Hygiene\n",
    "see https://docs.julialang.org/en/stable/manual/metaprogramming/#hygiene"
   ]
  },
  {
   "cell_type": "code",
   "execution_count": 4,
   "metadata": {
    "collapsed": false,
    "nbpresent": {
     "id": "b3996316-3fb2-4a03-a1bf-d0e23eae4a6b"
    },
    "slideshow": {
     "slide_type": "fragment"
    }
   },
   "outputs": [
    {
     "data": {
      "text/plain": [
       "quote  # In[4], line 6:\n",
       "    $(Expr(:escape, :x)) = IndepNormal($(Expr(:escape, :m)),$(Expr(:escape, 1)),$(Expr(:escape, 1)),\"x\")\n",
       "end"
      ]
     },
     "execution_count": 4,
     "metadata": {},
     "output_type": "execute_result"
    }
   ],
   "source": [
    "m = esc(m)\n",
    "mean = esc(mean.args[2])\n",
    "var = esc(var.args[2])\n",
    "\n",
    "quote\n",
    "    $(esc(x)) = IndepNormal($m,$mean,$var,$(string(x)))\n",
    "end"
   ]
  },
  {
   "cell_type": "markdown",
   "metadata": {
    "nbpresent": {
     "id": "31fca125-9972-4156-a757-3f498469b4cc"
    },
    "slideshow": {
     "slide_type": "subslide"
    }
   },
   "source": [
    "## (2) `JuMP.buildrefsets`\n",
    "\n",
    "Let's try a more involved example:"
   ]
  },
  {
   "cell_type": "code",
   "execution_count": 5,
   "metadata": {
    "collapsed": false,
    "nbpresent": {
     "id": "6a7af814-8a95-4c73-9b89-a44002ee669e"
    },
    "slideshow": {
     "slide_type": "fragment"
    }
   },
   "outputs": [
    {
     "name": "stdout",
     "output_type": "stream",
     "text": [
      "m = :m\n",
      "x = :(ω[i = 1:4,j = 1:3])\n",
      "mean = :(mean=1)\n",
      "var = :(var=1)\n"
     ]
    }
   ],
   "source": [
    "m, x, mean, var = @indepnormal(m, ω[i=1:4,j=1:3], mean=1, var=1)\n",
    "@show m\n",
    "@show x\n",
    "@show mean\n",
    "@show var;"
   ]
  },
  {
   "cell_type": "code",
   "execution_count": 8,
   "metadata": {
    "collapsed": false
   },
   "outputs": [
    {
     "name": "stdout",
     "output_type": "stream",
     "text": [
      "Expr\n",
      "  head: Symbol ref\n",
      "  args: Array{Any}((3,))\n",
      "    1: Symbol ω\n",
      "    2: Expr\n",
      "      head: Symbol =\n",
      "      args: Array{Any}((2,))\n",
      "        1: Symbol i\n",
      "        2: Expr\n",
      "          head: Symbol :\n",
      "          args: Array{Any}((2,))\n",
      "            1: Int64 1\n",
      "            2: Int64 4\n",
      "          typ: Any\n",
      "      typ: Any\n",
      "    3: Expr\n",
      "      head: Symbol =\n",
      "      args: Array{Any}((2,))\n",
      "        1: Symbol j\n",
      "        2: Expr\n",
      "          head: Symbol :\n",
      "          args: Array{Any}((2,))\n",
      "            1: Int64 1\n",
      "            2: Int64 3\n",
      "          typ: Any\n",
      "      typ: Any\n",
      "  typ: Any\n"
     ]
    }
   ],
   "source": [
    "dump(x)"
   ]
  },
  {
   "cell_type": "markdown",
   "metadata": {
    "nbpresent": {
     "id": "c1349395-752f-4bac-ad0d-f50779888bfe"
    },
    "slideshow": {
     "slide_type": "subslide"
    }
   },
   "source": [
    "Would our previous macro work here?"
   ]
  },
  {
   "cell_type": "code",
   "execution_count": 6,
   "metadata": {
    "collapsed": false,
    "nbpresent": {
     "id": "58565079-87f2-42a4-92f5-79b8e1ff53a8"
    },
    "slideshow": {
     "slide_type": "fragment"
    }
   },
   "outputs": [
    {
     "data": {
      "text/plain": [
       "quote  # In[6], line 2:\n",
       "    ω[i = 1:4,j = 1:3] = IndepNormal(m,mean=1,var=1,\"ω[i = 1:4,j = 1:3]\")\n",
       "end"
      ]
     },
     "execution_count": 6,
     "metadata": {},
     "output_type": "execute_result"
    }
   ],
   "source": [
    "quote\n",
    "    $x = IndepNormal($m,$mean,$var,$(string(x)))\n",
    "end"
   ]
  },
  {
   "cell_type": "code",
   "execution_count": 7,
   "metadata": {
    "collapsed": false,
    "nbpresent": {
     "id": "2f4522ae-6cdf-4bae-a41c-fee5a07adb72"
    },
    "slideshow": {
     "slide_type": "fragment"
    }
   },
   "outputs": [
    {
     "name": "stdout",
     "output_type": "stream",
     "text": [
      "refcall = :(ω[$(Expr(:escape, :i)),$(Expr(:escape, :j))])\n",
      "idxvars = Any[:i,:j]\n",
      "idxsets = Any[:($(Expr(:escape, :(1:4)))),:($(Expr(:escape, :(1:3))))]\n",
      "idxpairs = JuMP.IndexPair[JuMP.IndexPair(:i,:(1:4)),JuMP.IndexPair(:j,:(1:3))]\n",
      "condition = :(())\n"
     ]
    }
   ],
   "source": [
    "###############################################################################\n",
    "# buildrefsets\n",
    "# Unexported. Takes as input an object representing a name, associated index\n",
    "# sets, and conditions on those sets, for example\n",
    "# buildrefsets(:(x[i=1:3,[:red,:blue]],k=S; i+k <= 6))\n",
    "# Used internally in macros to build JuMPContainers and constraints. Returns\n",
    "#       refcall:  Expr to reference a particular element, e.g. :(x[i,j,k])\n",
    "#       idxvars:  Index names used in referencing, e.g.g {:i,:j,:k}\n",
    "#       idxsets:  Index sets for indexing, e.g. {1:3, [:red,:blue], S}\n",
    "#       idxpairs: Vector of IndexPair\n",
    "#       condition: Expr containing any condition present for indexing\n",
    "# Note in particular that it does not actually evaluate the condition, and so\n",
    "# it returns just the cartesian product of possible indices.\n",
    "\n",
    "refcall, idxvars, idxsets, idxpairs, condition = JuMP.buildrefsets(x)\n",
    "@show refcall\n",
    "@show idxvars\n",
    "@show idxsets\n",
    "@show idxpairs\n",
    "@show condition;"
   ]
  },
  {
   "cell_type": "markdown",
   "metadata": {
    "nbpresent": {
     "id": "d2e80a5f-9593-47b2-a8c9-5344392aaec2"
    },
    "slideshow": {
     "slide_type": "subslide"
    }
   },
   "source": [
    "In order to construct the string correspond to the variable name `\"ω[$i,$j]\"`:"
   ]
  },
  {
   "cell_type": "code",
   "execution_count": 9,
   "metadata": {
    "collapsed": false,
    "nbpresent": {
     "id": "78b0c9fe-d9c5-4cb0-b0a6-007a673ea552"
    },
    "slideshow": {
     "slide_type": "fragment"
    }
   },
   "outputs": [
    {
     "data": {
      "text/plain": [
       ":(string(\"ω\",\"[\",string($(Expr(:escape, :i))),\",\",string($(Expr(:escape, :j))),\"]\"))"
      ]
     },
     "execution_count": 9,
     "metadata": {},
     "output_type": "execute_result"
    }
   ],
   "source": [
    "varname = JuMP.getname(x)\n",
    "varstr = :(string($(string(varname)),\"[\"))\n",
    "for idxvar in idxvars\n",
    "    push!(varstr.args,:(string($(esc(idxvar)))))\n",
    "    push!(varstr.args,\",\")\n",
    "end\n",
    "deleteat!(varstr.args,length(varstr.args))\n",
    "push!(varstr.args,\"]\")\n",
    "varstr"
   ]
  },
  {
   "cell_type": "markdown",
   "metadata": {
    "nbpresent": {
     "id": "388b417c-bdf2-40a3-abe8-e9ed4920a31d"
    },
    "slideshow": {
     "slide_type": "subslide"
    }
   },
   "source": [
    "## (3) `JuMP.getloopedcode`"
   ]
  },
  {
   "cell_type": "code",
   "execution_count": 10,
   "metadata": {
    "collapsed": false,
    "nbpresent": {
     "id": "4cfc6109-d603-440d-9346-de9887a55180"
    },
    "slideshow": {
     "slide_type": "fragment"
    }
   },
   "outputs": [
    {
     "data": {
      "text/plain": [
       "quote  # /Users/yeesian/.julia/v0.5/JuMP/src/macros.jl, line 198:\n",
       "    ##280 = Array{IndepNormal}((length($(Expr(:escape, :(1:4)))),length($(Expr(:escape, :(1:3)))))...) # /Users/yeesian/.julia/v0.5/JuMP/src/macros.jl, line 199:\n",
       "    begin  # /Users/yeesian/.julia/v0.5/JuMP/src/macros.jl, line 181:\n",
       "        let  # /Users/yeesian/.julia/v0.5/JuMP/src/macros.jl, line 182:\n",
       "            begin \n",
       "                local $(Expr(:escape, :i))\n",
       "            end # /Users/yeesian/.julia/v0.5/JuMP/src/macros.jl, line 183:\n",
       "            for $(Expr(:escape, :i)) = $(Expr(:escape, :(1:4))) # /Users/yeesian/.julia/v0.5/JuMP/src/macros.jl, line 184:\n",
       "                begin  # /Users/yeesian/.julia/v0.5/JuMP/src/macros.jl, line 181:\n",
       "                    let  # /Users/yeesian/.julia/v0.5/JuMP/src/macros.jl, line 182:\n",
       "                        begin \n",
       "                            local $(Expr(:escape, :j))\n",
       "                        end # /Users/yeesian/.julia/v0.5/JuMP/src/macros.jl, line 183:\n",
       "                        for $(Expr(:escape, :j)) = $(Expr(:escape, :(1:3))) # /Users/yeesian/.julia/v0.5/JuMP/src/macros.jl, line 184:\n",
       "                            ω[$(Expr(:escape, :i)),$(Expr(:escape, :j))] = IndepNormal(m,mean=1,var=1,string(\"ω\",\"[\",string($(Expr(:escape, :i))),\",\",string($(Expr(:escape, :j))),\"]\"))\n",
       "                        end\n",
       "                    end\n",
       "                end\n",
       "            end\n",
       "        end\n",
       "    end # /Users/yeesian/.julia/v0.5/JuMP/src/macros.jl, line 200:\n",
       "    nothing\n",
       "end"
      ]
     },
     "execution_count": 10,
     "metadata": {},
     "output_type": "execute_result"
    }
   ],
   "source": [
    "###############################################################################\n",
    "# getloopedcode\n",
    "# Unexported. Takes a bit of code and corresponding looping information and\n",
    "# returns that code nested in corresponding loops, along with preceding code\n",
    "# to construct an appropriate container. Input is:\n",
    "#       c: symbolic representation of name and appropriate indexing sets, if\n",
    "#          any. E.g. :(myvar) or :(x[i=1:3,[:red,:blue]])\n",
    "#       code: inner loop code kernel to be nested in the loops\n",
    "#       condition: a boolean expression to be evaluated before each kernel.\n",
    "#                  If none, pass :().\n",
    "#       idxvars: As defined for buildrefsets\n",
    "#       idxsets: As defined for buildrefsets\n",
    "#       idxpairs: As defined for buildrefsets\n",
    "#       sym: A symbol or expression containing the element type of the\n",
    "#            resulting container, e.g. :AffExpr or :Variable\n",
    "\n",
    "variable = gensym()\n",
    "code = :( $(refcall) = IndepNormal($m, $mean, $var, $varstr ) )\n",
    "JuMP.getloopedcode(variable, code, condition, idxvars, idxsets, idxpairs, :IndepNormal)"
   ]
  },
  {
   "cell_type": "markdown",
   "metadata": {
    "nbpresent": {
     "id": "ebd6180b-b10f-433e-a224-835aa667e548"
    },
    "slideshow": {
     "slide_type": "slide"
    }
   },
   "source": [
    "# Working with JuMP's Macros"
   ]
  },
  {
   "cell_type": "code",
   "execution_count": 11,
   "metadata": {
    "collapsed": true,
    "nbpresent": {
     "id": "dded5116-6106-4040-bd2d-699d0aeb4240"
    }
   },
   "outputs": [],
   "source": [
    "using Base.Meta # for `quot`"
   ]
  },
  {
   "cell_type": "markdown",
   "metadata": {
    "nbpresent": {
     "id": "53b9becf-e330-4786-aba1-ff81e8de810d"
    },
    "slideshow": {
     "slide_type": "subslide"
    }
   },
   "source": [
    "## [`JuMP.@variable`](https://github.com/JuliaOpt/JuMP.jl/blob/9a32caff1684954fb377403aeccf77ecfb60d13f/src/macros.jl#L870-L1118)\n",
    "see also: [`constructvariable!()`](https://github.com/JuliaOpt/JuMP.jl/blob/f679fa38e8007a4d19b1a58ed21e61c724f344ad/src/macros.jl#L823-L835) and [`registervar()`](https://github.com/JuliaOpt/JuMP.jl/blob/9a32caff1684954fb377403aeccf77ecfb60d13f/src/JuMP.jl#L808-L826)"
   ]
  },
  {
   "cell_type": "code",
   "execution_count": 12,
   "metadata": {
    "collapsed": false,
    "nbpresent": {
     "id": "88ec6860-565b-4e2c-88c9-d741588bf29d"
    },
    "slideshow": {
     "slide_type": "fragment"
    }
   },
   "outputs": [
    {
     "data": {
      "text/plain": [
       "@variable (macro with 1 method)"
      ]
     },
     "execution_count": 12,
     "metadata": {},
     "output_type": "execute_result"
    }
   ],
   "source": [
    "macro variable(args...)\n",
    "    args\n",
    "end"
   ]
  },
  {
   "cell_type": "code",
   "execution_count": 13,
   "metadata": {
    "collapsed": false,
    "nbpresent": {
     "id": "ab4690ce-92b9-4859-8cd7-6347ab69d70f"
    },
    "slideshow": {
     "slide_type": "fragment"
    }
   },
   "outputs": [
    {
     "data": {
      "text/plain": [
       "(:m,:(x >= 0))"
      ]
     },
     "execution_count": 13,
     "metadata": {},
     "output_type": "execute_result"
    }
   ],
   "source": [
    "args = @variable(m, x >= 0)"
   ]
  },
  {
   "cell_type": "code",
   "execution_count": 14,
   "metadata": {
    "collapsed": false,
    "nbpresent": {
     "id": "901a1cc3-dc4a-4e88-8be4-9f447e46efa0"
    },
    "slideshow": {
     "slide_type": "fragment"
    }
   },
   "outputs": [
    {
     "data": {
      "text/plain": [
       "quote  # /Users/yeesian/.julia/v0.5/JuMP/src/macros.jl, line 243:\n",
       "    validmodel($(Expr(:escape, :m)),:m) # /Users/yeesian/.julia/v0.5/JuMP/src/macros.jl, line 244:\n",
       "    begin  # In[14], line 13:\n",
       "        ##280 = constructvariable!($(Expr(:escape, :m)),JuMP._error,0,Inf,:Default,string(:x),NaN) # In[14], line 14:\n",
       "        registervar($(Expr(:escape, :m)),:x,##280) # In[14], line 15:\n",
       "        $(Expr(:escape, :x)) = ##280\n",
       "    end\n",
       "end"
      ]
     },
     "execution_count": 14,
     "metadata": {},
     "output_type": "execute_result"
    }
   ],
   "source": [
    "m = esc(args[1])\n",
    "var = args[2].args[2]\n",
    "lb = 0\n",
    "ub = Inf\n",
    "t = quot(:Default)\n",
    "quotvarname = quot(JuMP.getname(var))\n",
    "escvarname  = esc(JuMP.getname(var))\n",
    "value = NaN\n",
    "\n",
    "variablecall = :( constructvariable!($m, $JuMP._error, $lb, $ub, $t, string($quotvarname), $value) )\n",
    "code = :($variable = $variablecall)\n",
    "code = quote\n",
    "    $code\n",
    "    registervar($m, $quotvarname, $variable)\n",
    "    $escvarname = $variable\n",
    "end\n",
    "JuMP.assert_validmodel(m, code)"
   ]
  },
  {
   "cell_type": "markdown",
   "metadata": {
    "nbpresent": {
     "id": "5cfc477d-2e77-4760-aaa1-ad5248e4e6ed"
    },
    "slideshow": {
     "slide_type": "subslide"
    }
   },
   "source": [
    "### and now for a more involved example"
   ]
  },
  {
   "cell_type": "code",
   "execution_count": 15,
   "metadata": {
    "collapsed": false,
    "nbpresent": {
     "id": "138b4480-2446-4807-8a9b-94edc0562899"
    },
    "slideshow": {
     "slide_type": "fragment"
    }
   },
   "outputs": [
    {
     "data": {
      "text/plain": [
       "(:m,:(x[1:N,1:N]),:Symmetric,:(Poly(X)))"
      ]
     },
     "execution_count": 15,
     "metadata": {},
     "output_type": "execute_result"
    }
   ],
   "source": [
    "args = @variable(m, x[1:N,1:N], Symmetric, Poly(X))"
   ]
  },
  {
   "cell_type": "code",
   "execution_count": 16,
   "metadata": {
    "collapsed": false,
    "nbpresent": {
     "id": "ccb352aa-b666-40b6-9c64-4670ddbf1e1a"
    },
    "slideshow": {
     "slide_type": "fragment"
    }
   },
   "outputs": [
    {
     "name": "stdout",
     "output_type": "stream",
     "text": [
      "refcall = :(##281[$(Expr(:escape, Symbol(\"##282\"))),$(Expr(:escape, Symbol(\"##283\")))])\n",
      "idxvars = Any[Symbol(\"##282\"),Symbol(\"##283\")]\n",
      "idxsets = Any[:($(Expr(:escape, :(1:N)))),:($(Expr(:escape, :(1:N))))]\n",
      "idxpairs = JuMP.IndexPair[JuMP.IndexPair(nothing,:(1:N)),JuMP.IndexPair(nothing,:(1:N))]\n",
      "condition = :(())\n"
     ]
    }
   ],
   "source": [
    "var = args[2]\n",
    "variable = gensym()\n",
    "quotvarname = quot(JuMP.getname(var))\n",
    "escvarname  = esc(JuMP.getname(var))\n",
    "\n",
    "refcall, idxvars, idxsets, idxpairs, condition = JuMP.buildrefsets(var, variable)\n",
    "@show refcall\n",
    "@show idxvars\n",
    "@show idxsets\n",
    "@show idxpairs\n",
    "@show condition;"
   ]
  },
  {
   "cell_type": "markdown",
   "metadata": {
    "nbpresent": {
     "id": "daa22e5b-a6d5-4f98-8223-fc77638b7f7b"
    },
    "slideshow": {
     "slide_type": "subslide"
    }
   },
   "source": [
    "**Homework**: convince yourself that `@variable(m, x[1:N,1:N], Symmetric, Poly(X))` is equivalent to:"
   ]
  },
  {
   "cell_type": "code",
   "execution_count": 17,
   "metadata": {
    "collapsed": false,
    "nbpresent": {
     "id": "c19040a3-e302-456b-80c5-db7519db0a19"
    },
    "slideshow": {
     "slide_type": "fragment"
    }
   },
   "outputs": [
    {
     "ename": "LoadError",
     "evalue": "syntax: invalid identifier name \"...\"",
     "output_type": "error",
     "traceback": [
      "syntax: invalid identifier name \"...\"",
      ""
     ]
    }
   ],
   "source": [
    "x = Matrix{...}(N, N)\n",
    "for i in 1:N\n",
    "    for j in 1:N\n",
    "        x[i,j] = x[j,i] = constructvariable!(m, Poly(X),\n",
    "            msg -> error(\"In @variable(m, x[1:N,1:N], Symmetric, Poly(X)): \", msg), -Inf, Inf, :Cont, \"\", NaN\n",
    "        )\n",
    "    end\n",
    "end"
   ]
  },
  {
   "cell_type": "markdown",
   "metadata": {
    "nbpresent": {
     "id": "c51a1fb4-9747-4260-8149-40263b635136"
    },
    "slideshow": {
     "slide_type": "slide"
    }
   },
   "source": [
    "## [`JuMP.@constraint`](https://github.com/JuliaOpt/JuMP.jl/blob/9a32caff1684954fb377403aeccf77ecfb60d13f/src/macros.jl#L351-L494)\n",
    "\n",
    "see also: [`constructconstraint!()`](https://github.com/JuliaOpt/JuMP.jl/blob/9a32caff1684954fb377403aeccf77ecfb60d13f/src/macros.jl#L280-L347), [`parseExprToplevel()`](https://github.com/JuliaOpt/JuMP.jl/blob/d6626342c5a6d3211cbfef565174c5d8d468773b/src/parseExpr_staged.jl#L535-L635) and [`addtoexpr_reorder()`](https://github.com/JuliaOpt/JuMP.jl/blob/d6626342c5a6d3211cbfef565174c5d8d468773b/src/parseExpr_staged.jl#L277-L295)"
   ]
  },
  {
   "cell_type": "code",
   "execution_count": 18,
   "metadata": {
    "collapsed": false,
    "nbpresent": {
     "id": "319d33f3-8005-4880-ab32-a8ffb7b832b4"
    },
    "slideshow": {
     "slide_type": "fragment"
    }
   },
   "outputs": [
    {
     "data": {
      "text/plain": [
       "@constraint (macro with 1 method)"
      ]
     },
     "execution_count": 18,
     "metadata": {},
     "output_type": "execute_result"
    }
   ],
   "source": [
    "macro constraint(args...)\n",
    "    args\n",
    "end"
   ]
  },
  {
   "cell_type": "code",
   "execution_count": 19,
   "metadata": {
    "collapsed": false,
    "nbpresent": {
     "id": "bc9379a3-7c6b-44f7-9e64-f3ff2fca2000"
    },
    "slideshow": {
     "slide_type": "fragment"
    }
   },
   "outputs": [
    {
     "data": {
      "text/plain": [
       "(:m,:(a * x <= 5))"
      ]
     },
     "execution_count": 19,
     "metadata": {},
     "output_type": "execute_result"
    }
   ],
   "source": [
    "args = @constraint(m, a*x <= 5)"
   ]
  },
  {
   "cell_type": "code",
   "execution_count": 20,
   "metadata": {
    "collapsed": false,
    "nbpresent": {
     "id": "aa224697-ee0e-4a8d-871b-1e87593878a2"
    },
    "slideshow": {
     "slide_type": "fragment"
    }
   },
   "outputs": [
    {
     "name": "stdout",
     "output_type": "stream",
     "text": [
      "m = args[1] = :m\n",
      "x = args[2] = :(a * x <= 5)\n",
      "extra = args[3:end] = ()\n"
     ]
    }
   ],
   "source": [
    "@show m = args[1]\n",
    "@show x = args[2]\n",
    "@show extra = args[3:end];"
   ]
  },
  {
   "cell_type": "code",
   "execution_count": 21,
   "metadata": {
    "collapsed": false,
    "nbpresent": {
     "id": "7f13d5f5-2e5b-418c-9d84-6f228fac08a7"
    },
    "slideshow": {
     "slide_type": "subslide"
    }
   },
   "outputs": [
    {
     "name": "stdout",
     "output_type": "stream",
     "text": [
      "c = Symbol(\"##284\")\n",
      "x = :(a * x <= 5)\n"
     ]
    }
   ],
   "source": [
    "m = esc(m)\n",
    "# Two formats:\n",
    "    # - @constraint(m, a*x <= 5)\n",
    "    # - @constraint(m, myref[a=1:5], a*x <= 5)\n",
    "# Canonicalize the arguments\n",
    "c = length(extra) == 1 ? x        : gensym()\n",
    "x = length(extra) == 1 ? extra[1] : x\n",
    "@show c\n",
    "@show x\n",
    "\n",
    "variable = gensym()\n",
    "quotvarname = quot(JuMP.getname(c))\n",
    "escvarname  = esc(JuMP.getname(c));"
   ]
  },
  {
   "cell_type": "code",
   "execution_count": 22,
   "metadata": {
    "collapsed": false,
    "nbpresent": {
     "id": "28409266-a932-4cb5-b664-f15a0072b3e1"
    },
    "scrolled": true
   },
   "outputs": [
    {
     "data": {
      "text/plain": [
       "(Symbol(\"##285\"),Any[],Any[],JuMP.IndexPair[],:(()))"
      ]
     },
     "execution_count": 22,
     "metadata": {},
     "output_type": "execute_result"
    }
   ],
   "source": [
    "refcall, idxvars, idxsets, idxpairs, condition = JuMP.buildrefsets(c, variable)"
   ]
  },
  {
   "cell_type": "code",
   "execution_count": 23,
   "metadata": {
    "collapsed": false,
    "nbpresent": {
     "id": "16a43b58-75b5-468c-a4b9-7ef1b9f7bd3c"
    }
   },
   "outputs": [
    {
     "data": {
      "text/plain": [
       "(:(<=),false)"
      ]
     },
     "execution_count": 23,
     "metadata": {},
     "output_type": "execute_result"
    }
   ],
   "source": [
    "(sense,vectorized) = JuMP._canonicalize_sense(x.args[1])"
   ]
  },
  {
   "cell_type": "code",
   "execution_count": 24,
   "metadata": {
    "collapsed": false,
    "nbpresent": {
     "id": "04aaf657-4931-480b-965a-cd12e5f68fd3"
    }
   },
   "outputs": [
    {
     "data": {
      "text/plain": [
       ":(a * x - 5)"
      ]
     },
     "execution_count": 24,
     "metadata": {},
     "output_type": "execute_result"
    }
   ],
   "source": [
    "lhs = :($(x.args[2]) - $(x.args[3]))"
   ]
  },
  {
   "cell_type": "code",
   "execution_count": 25,
   "metadata": {
    "collapsed": false,
    "nbpresent": {
     "id": "e6718047-f1c8-41cc-82eb-8d4c960566f6"
    }
   },
   "outputs": [
    {
     "data": {
      "text/plain": [
       ":addconstraint"
      ]
     },
     "execution_count": 25,
     "metadata": {},
     "output_type": "execute_result"
    }
   ],
   "source": [
    "addconstr = (vectorized ? :addVectorizedConstraint : :addconstraint)"
   ]
  },
  {
   "cell_type": "code",
   "execution_count": 26,
   "metadata": {
    "collapsed": false,
    "nbpresent": {
     "id": "347dfb38-e311-40ae-9517-27caf0ea8e71"
    }
   },
   "outputs": [
    {
     "data": {
      "text/plain": [
       "quote  # In[26], line 4:\n",
       "    q = zero(AffExpr) # In[26], line 5:\n",
       "    begin \n",
       "        begin \n",
       "            ##287 = addtoexpr_reorder(q,$(Expr(:escape, :a)),$(Expr(:escape, :x)))\n",
       "        end\n",
       "        ##286 = addtoexpr_reorder(##287,-1.0,$(Expr(:escape, 5)))\n",
       "    end # In[26], line 6:\n",
       "    ##285 = addconstraint($(Expr(:escape, :m)),constructconstraint!(##286,:(<=)))\n",
       "end"
      ]
     },
     "execution_count": 26,
     "metadata": {},
     "output_type": "execute_result"
    }
   ],
   "source": [
    "newaff, parsecode = JuMP.parseExprToplevel(lhs, :q)\n",
    "constraintcall = :($addconstr($m, constructconstraint!($newaff,$(quot(sense)))))\n",
    "code = quote\n",
    "    q = zero(AffExpr)\n",
    "    $parsecode\n",
    "    $(refcall) = $constraintcall\n",
    "end"
   ]
  },
  {
   "cell_type": "code",
   "execution_count": 27,
   "metadata": {
    "collapsed": false,
    "nbpresent": {
     "id": "fb162f5b-d821-40a6-ad64-b8be88ccc5b3"
    }
   },
   "outputs": [
    {
     "data": {
      "text/plain": [
       "quote  # /Users/yeesian/.julia/v0.5/JuMP/src/macros.jl, line 243:\n",
       "    validmodel($(Expr(:escape, :m)),:m) # /Users/yeesian/.julia/v0.5/JuMP/src/macros.jl, line 244:\n",
       "    begin  # In[27], line 2:\n",
       "        begin  # In[26], line 4:\n",
       "            q = zero(AffExpr) # In[26], line 5:\n",
       "            begin \n",
       "                begin \n",
       "                    ##287 = addtoexpr_reorder(q,$(Expr(:escape, :a)),$(Expr(:escape, :x)))\n",
       "                end\n",
       "                ##286 = addtoexpr_reorder(##287,-1.0,$(Expr(:escape, 5)))\n",
       "            end # In[26], line 6:\n",
       "            ##285 = addconstraint($(Expr(:escape, :m)),constructconstraint!(##286,:(<=)))\n",
       "        end # In[27], line 3:\n",
       "        begin  # In[27], line 4:\n",
       "            registercon($(Expr(:escape, :m)),Symbol(\"##284\"),##285) # In[27], line 5:\n",
       "            $(Expr(:escape, Symbol(\"##284\"))) = ##285\n",
       "        end\n",
       "    end\n",
       "end"
      ]
     },
     "execution_count": 27,
     "metadata": {},
     "output_type": "execute_result"
    }
   ],
   "source": [
    "JuMP.assert_validmodel(m, quote\n",
    "    $(JuMP.getloopedcode(variable, code, condition, idxvars, idxsets, idxpairs, :ConstraintRef))\n",
    "    $(quote\n",
    "            registercon($m, $quotvarname, $variable)\n",
    "            $escvarname = $variable\n",
    "    end)\n",
    "end)"
   ]
  },
  {
   "cell_type": "markdown",
   "metadata": {
    "nbpresent": {
     "id": "a372f970-1a9e-4671-910a-e1a52fafd1db"
    }
   },
   "source": [
    "**Note**: JuMP also accepts constraint syntax of the form `@constraint(m, foo in bar)`.\n",
    "\n",
    "This will be rewritten to a call to `constructconstraint!(foo, bar)`. To extend JuMP to accept set-based constraints of this form, it is necessary to add the corresponding methods to `constructconstraint!`."
   ]
  },
  {
   "cell_type": "markdown",
   "metadata": {
    "nbpresent": {
     "id": "779f6fc3-89f5-44b6-9322-f98398c6fcd3"
    }
   },
   "source": [
    "# Putting everything together"
   ]
  },
  {
   "cell_type": "markdown",
   "metadata": {
    "nbpresent": {
     "id": "98d30e70-2d66-4614-8352-aa570200fa7c"
    }
   },
   "source": [
    "## [`JuMP.solve()`](https://github.com/JuliaOpt/JuMP.jl/blob/9a32caff1684954fb377403aeccf77ecfb60d13f/src/solvers.jl#L144-L292)"
   ]
  },
  {
   "cell_type": "code",
   "execution_count": null,
   "metadata": {
    "collapsed": true,
    "nbpresent": {
     "id": "bbca24ea-954e-43be-a929-3325e2eeb153"
    }
   },
   "outputs": [],
   "source": [
    "function solve(m::Model; suppress_warnings=false,\n",
    "                ignore_solve_hook=(m.solvehook===nothing),\n",
    "                relaxation=false,\n",
    "                kwargs...)\n",
    "    # If the user or an extension has provided a solve hook, call\n",
    "    # that instead of solving the model ourselves\n",
    "    if !ignore_solve_hook\n",
    "        return m.solvehook(m; suppress_warnings=suppress_warnings, kwargs...)::Symbol\n",
    "    end\n",
    "    # [...]\n",
    "end"
   ]
  },
  {
   "cell_type": "markdown",
   "metadata": {
    "nbpresent": {
     "id": "016fc751-7b66-45f2-a410-42cc251f213f"
    }
   },
   "source": [
    "see [`JuMPChance.Model`](https://github.com/mlubin/JuMPChance.jl/blob/8b4d3628146672d1178eb1fb0b2050b0a0e4ca4d/src/JuMPChance.jl#L31-L36) and [`JuMPChance.solvehook()`](https://github.com/mlubin/JuMPChance.jl/blob/8b4d3628146672d1178eb1fb0b2050b0a0e4ca4d/src/solve.jl#L5-L184) for a working example."
   ]
  },
  {
   "cell_type": "markdown",
   "metadata": {
    "nbpresent": {
     "id": "28778d39-e439-4e41-881f-46be8d3f3a45"
    }
   },
   "source": [
    "## [`JuMP.build()`](https://github.com/JuliaOpt/JuMP.jl/blob/9a32caff1684954fb377403aeccf77ecfb60d13f/src/solvers.jl#L294-L418)\n",
    "\n",
    "visit the link ^ if you wish to see how the conversion from a JuMP.Model into a MathProgBase model is done.\n",
    "\n",
    "- https://github.com/JuliaOpt/JuMP.jl/pull/1033"
   ]
  },
  {
   "cell_type": "markdown",
   "metadata": {
    "nbpresent": {
     "id": "17a54534-368f-4a20-b100-a15bfd79af57"
    }
   },
   "source": [
    "## [`JuMP.Model`](https://github.com/JuliaOpt/JuMP.jl/blob/9a32caff1684954fb377403aeccf77ecfb60d13f/src/JuMP.jl#L62-L137)\n",
    "\n",
    "See [`JuMPChance.ChanceModel()`](https://github.com/mlubin/JuMPChance.jl/blob/8b4d3628146672d1178eb1fb0b2050b0a0e4ca4d/src/JuMPChance.jl#L34) for an example of how the [`.ext` attribute in `JuMP.Model()`](https://github.com/JuliaOpt/JuMP.jl/blob/9a32caff1684954fb377403aeccf77ecfb60d13f/src/JuMP.jl#L136) might be used later on (e.g. [[1]](https://github.com/mlubin/JuMPChance.jl/blob/8b4d3628146672d1178eb1fb0b2050b0a0e4ca4d/src/solve.jl#L8), [[2]](https://github.com/mlubin/JuMPChance.jl/blob/8b4d3628146672d1178eb1fb0b2050b0a0e4ca4d/src/solve.jl#L8), [[3]](https://github.com/mlubin/JuMPChance.jl/blob/8b4d3628146672d1178eb1fb0b2050b0a0e4ca4d/src/solve.jl#L450), [[4]](https://github.com/mlubin/JuMPChance.jl/blob/8b4d3628146672d1178eb1fb0b2050b0a0e4ca4d/src/solve.jl#L717))."
   ]
  },
  {
   "cell_type": "markdown",
   "metadata": {
    "slideshow": {
     "slide_type": "slide"
    }
   },
   "source": [
    "# Recap\n",
    "\n",
    "- **Why Macros?**\n",
    "- **Quick Example**\n",
    "    - src/macros.jl\n",
    "        - `@variable` (implementation: 250lines)\n",
    "        - `@constraint` (implementation: 150lines)\n",
    "    - some utilities in JuMP\n",
    "        - for parsing and modifying expressions\n",
    "        - \"high-level-interface\" to MathProgBase\n",
    "- **What we talk about when we talk about JuMP**\n",
    "    - src/solvers.jl\n",
    "        - `solve()` (implementation: 150lines)\n",
    "        - `build()` (implementation 120lines)\n",
    "    - src/JuMP.jl\n",
    "        - type Model (63lines)\n",
    "        - what is [`AbstractModel`](https://github.com/JuliaOpt/JuMP.jl/blob/9a32caff1684954fb377403aeccf77ecfb60d13f/src/JuMP.jl#L62)?? or [`AbstractConstraint`](https://github.com/JuliaOpt/JuMP.jl/blob/9a32caff1684954fb377403aeccf77ecfb60d13f/src/JuMP.jl#L322-L324) or [`AbstractJuMPScalar`](https://github.com/JuliaOpt/JuMP.jl/blob/9a32caff1684954fb377403aeccf77ecfb60d13f/src/JuMP.jl#L325-L327)\n",
    "            - https://github.com/JuliaOpt/JuMP.jl/issues/713"
   ]
  },
  {
   "cell_type": "markdown",
   "metadata": {},
   "source": [
    "# Some collected thoughts on JuMP extensions\n",
    "- https://github.com/JuliaOpt/JuMP.jl/pull/286\n",
    "- https://github.com/JuliaOpt/JuMP.jl/issues/443\n",
    "- https://github.com/JuliaOpt/JuMP.jl/pull/522\n",
    "- https://github.com/JuliaOpt/JuMP.jl/pull/835\n",
    "- https://github.com/JuliaOpt/JuMP.jl/pull/1029"
   ]
  },
  {
   "cell_type": "code",
   "execution_count": null,
   "metadata": {
    "collapsed": true
   },
   "outputs": [],
   "source": []
  }
 ],
 "metadata": {
  "anaconda-cloud": {},
  "kernelspec": {
   "display_name": "Julia 0.5.1",
   "language": "julia",
   "name": "julia-0.5"
  },
  "language_info": {
   "file_extension": ".jl",
   "mimetype": "application/julia",
   "name": "julia",
   "version": "0.5.2"
  },
  "nbpresent": {
   "slides": {
    "01e78313-3138-4c19-92fa-d5f504207aa2": {
     "id": "01e78313-3138-4c19-92fa-d5f504207aa2",
     "prev": "4c8264f1-b567-41ba-8798-2a5e1867529c",
     "regions": {
      "b45103c0-3f5a-41b6-8184-9059fde29e8c": {
       "attrs": {
        "height": 0.8,
        "width": 0.8,
        "x": 0.1,
        "y": 0.1
       },
       "content": {
        "cell": "daa22e5b-a6d5-4f98-8223-fc77638b7f7b",
        "part": "whole"
       },
       "id": "b45103c0-3f5a-41b6-8184-9059fde29e8c"
      }
     }
    },
    "04a4659b-baff-4a08-8e4c-85b52af1101a": {
     "id": "04a4659b-baff-4a08-8e4c-85b52af1101a",
     "prev": "30a349be-cdea-491a-8384-dfe750a4738f",
     "regions": {
      "2d4153c9-b3b3-4e7d-b706-a8d294b25844": {
       "attrs": {
        "height": 0.8,
        "width": 0.8,
        "x": 0.1,
        "y": 0.1
       },
       "content": {
        "cell": "c51a1fb4-9747-4260-8149-40263b635136",
        "part": "whole"
       },
       "id": "2d4153c9-b3b3-4e7d-b706-a8d294b25844"
      }
     }
    },
    "063d3e4f-857f-4df5-baa9-10ed5c47d2ab": {
     "id": "063d3e4f-857f-4df5-baa9-10ed5c47d2ab",
     "prev": "e9e943d7-a989-4760-a5db-000473367fd5",
     "regions": {
      "90154c1b-ffa7-4105-9f6c-e5734d0824f3": {
       "attrs": {
        "height": 0.8,
        "width": 0.8,
        "x": 0.1,
        "y": 0.1
       },
       "content": {
        "cell": "016fc751-7b66-45f2-a410-42cc251f213f",
        "part": "whole"
       },
       "id": "90154c1b-ffa7-4105-9f6c-e5734d0824f3"
      }
     }
    },
    "085d6093-945f-4ec0-94f3-71609f80ffa5": {
     "id": "085d6093-945f-4ec0-94f3-71609f80ffa5",
     "prev": "41a5431a-0699-481d-be07-66c86d76edea",
     "regions": {
      "dea7af18-8b71-46be-8360-d5d3fa3fb7b7": {
       "attrs": {
        "height": 0.8,
        "width": 0.8,
        "x": 0.1,
        "y": 0.1
       },
       "content": {
        "cell": "5cfc477d-2e77-4760-aaa1-ad5248e4e6ed",
        "part": "whole"
       },
       "id": "dea7af18-8b71-46be-8360-d5d3fa3fb7b7"
      }
     }
    },
    "0bdc2224-50db-471a-a2d3-691c5375b120": {
     "id": "0bdc2224-50db-471a-a2d3-691c5375b120",
     "prev": "6d1be50e-d699-4ab3-8021-edc3500f2d9d",
     "regions": {
      "80f952cc-b8af-4e74-88dc-e9edcf0bc12e": {
       "attrs": {
        "height": 0.8,
        "width": 0.8,
        "x": 0.1,
        "y": 0.1
       },
       "content": {
        "cell": "6a7af814-8a95-4c73-9b89-a44002ee669e",
        "part": "whole"
       },
       "id": "80f952cc-b8af-4e74-88dc-e9edcf0bc12e"
      }
     }
    },
    "13c976bf-16a2-47dd-90a0-299013854eb2": {
     "id": "13c976bf-16a2-47dd-90a0-299013854eb2",
     "prev": "4ba3ce6b-ef87-4184-8180-f553155b8b66",
     "regions": {
      "75cc5a29-48e2-4f68-95f2-5b19c7c8cfaf": {
       "attrs": {
        "height": 0.8,
        "width": 0.8,
        "x": 0.1,
        "y": 0.1
       },
       "content": {
        "cell": "1da0fae4-9143-4fc7-b742-1a7671e4c3c6",
        "part": "whole"
       },
       "id": "75cc5a29-48e2-4f68-95f2-5b19c7c8cfaf"
      }
     }
    },
    "1507b48f-5d81-4ddf-af61-01bb0ef7071f": {
     "id": "1507b48f-5d81-4ddf-af61-01bb0ef7071f",
     "prev": "a5c58dc8-0643-4b8f-b76e-8083f52d65e6",
     "regions": {
      "7bc88b22-d701-4fa0-b58f-c1d3d2e1bd2f": {
       "attrs": {
        "height": 0.8,
        "width": 0.8,
        "x": 0.1,
        "y": 0.1
       },
       "content": {
        "cell": "ee5e2e31-27d6-403a-9f23-94919ff4b8ce",
        "part": "whole"
       },
       "id": "7bc88b22-d701-4fa0-b58f-c1d3d2e1bd2f"
      }
     }
    },
    "1ca31392-f0e2-4a82-97be-86152369cdc3": {
     "id": "1ca31392-f0e2-4a82-97be-86152369cdc3",
     "prev": "0bdc2224-50db-471a-a2d3-691c5375b120",
     "regions": {
      "909088f7-ae2b-4870-b9cd-2af3332dad5c": {
       "attrs": {
        "height": 0.8,
        "width": 0.8,
        "x": 0.1,
        "y": 0.1
       },
       "content": {
        "cell": "c1349395-752f-4bac-ad0d-f50779888bfe",
        "part": "whole"
       },
       "id": "909088f7-ae2b-4870-b9cd-2af3332dad5c"
      }
     }
    },
    "1ff600f0-f6a8-4c4c-a965-3ed58f6a5c45": {
     "id": "1ff600f0-f6a8-4c4c-a965-3ed58f6a5c45",
     "prev": null,
     "regions": {
      "60c71979-5625-4a89-973e-8cbd4b22b18e": {
       "attrs": {
        "height": 0.8,
        "width": 0.8,
        "x": 0.1,
        "y": 0.1
       },
       "content": {
        "cell": "c3ada4a7-a3ad-4f3d-ac49-34c69b04312e",
        "part": "whole"
       },
       "id": "60c71979-5625-4a89-973e-8cbd4b22b18e"
      }
     }
    },
    "24c897fc-106a-4935-81a3-687c195c3642": {
     "id": "24c897fc-106a-4935-81a3-687c195c3642",
     "prev": "9ed769bc-4cb0-416a-b90f-5cf358e0e821",
     "regions": {
      "b094aad1-f104-45cc-abdc-521134da8887": {
       "attrs": {
        "height": 0.8,
        "width": 0.8,
        "x": 0.1,
        "y": 0.1
       },
       "content": {
        "cell": "27e1d9f4-aebf-428b-955f-fc167e52d90c",
        "part": "whole"
       },
       "id": "b094aad1-f104-45cc-abdc-521134da8887"
      }
     }
    },
    "256408ad-1088-4e62-8801-ab2e2c143af7": {
     "id": "256408ad-1088-4e62-8801-ab2e2c143af7",
     "prev": "66eed4a0-737e-4d2d-9b7a-1e38b69f2f8c",
     "regions": {
      "1dd3092f-1ec8-4c64-94fb-1b3ea69fbe63": {
       "attrs": {
        "height": 0.8,
        "width": 0.8,
        "x": 0.1,
        "y": 0.1
       },
       "content": {
        "cell": "511d1cad-c82e-4625-ae12-f40e6b8351f2",
        "part": "whole"
       },
       "id": "1dd3092f-1ec8-4c64-94fb-1b3ea69fbe63"
      }
     }
    },
    "2661062c-8666-4112-83bb-ba610a950a0c": {
     "id": "2661062c-8666-4112-83bb-ba610a950a0c",
     "prev": "472c2e81-1f5f-4af5-a45b-b367d4f7e980",
     "regions": {
      "5f0e37ac-b301-4606-94a7-60c5c7b93ef4": {
       "attrs": {
        "height": 0.8,
        "width": 0.8,
        "x": 0.1,
        "y": 0.1
       },
       "content": {
        "cell": "98d30e70-2d66-4614-8352-aa570200fa7c",
        "part": "whole"
       },
       "id": "5f0e37ac-b301-4606-94a7-60c5c7b93ef4"
      }
     }
    },
    "30a349be-cdea-491a-8384-dfe750a4738f": {
     "id": "30a349be-cdea-491a-8384-dfe750a4738f",
     "prev": "01e78313-3138-4c19-92fa-d5f504207aa2",
     "regions": {
      "4bc3c8ff-45ce-48f2-8d88-720b8547d53a": {
       "attrs": {
        "height": 0.8,
        "width": 0.8,
        "x": 0.1,
        "y": 0.1
       },
       "content": {
        "cell": "c19040a3-e302-456b-80c5-db7519db0a19",
        "part": "whole"
       },
       "id": "4bc3c8ff-45ce-48f2-8d88-720b8547d53a"
      }
     }
    },
    "3232bb81-0fe6-4821-8a24-654824b9df36": {
     "id": "3232bb81-0fe6-4821-8a24-654824b9df36",
     "prev": "a04cae5f-70fa-441b-8610-65a668dc7e97",
     "regions": {
      "0b986cdf-7db2-467a-a439-eeec3d947f0f": {
       "attrs": {
        "height": 0.8,
        "width": 0.8,
        "x": 0.1,
        "y": 0.1
       },
       "content": {
        "cell": "5aea5a5b-e888-43c9-a41b-bb1581f4da82",
        "part": "whole"
       },
       "id": "0b986cdf-7db2-467a-a439-eeec3d947f0f"
      }
     }
    },
    "3a15d281-a93d-40e5-a5a0-8a2d40e5e2cd": {
     "id": "3a15d281-a93d-40e5-a5a0-8a2d40e5e2cd",
     "prev": "1ca31392-f0e2-4a82-97be-86152369cdc3",
     "regions": {
      "03634422-fa7d-42a2-92b5-938cde48f15b": {
       "attrs": {
        "height": 0.8,
        "width": 0.8,
        "x": 0.1,
        "y": 0.1
       },
       "content": {
        "cell": "58565079-87f2-42a4-92f5-79b8e1ff53a8",
        "part": "whole"
       },
       "id": "03634422-fa7d-42a2-92b5-938cde48f15b"
      }
     }
    },
    "3e253d30-6c20-4aae-b2e8-ecb6a9785078": {
     "id": "3e253d30-6c20-4aae-b2e8-ecb6a9785078",
     "prev": "f81ee293-66c0-48ce-a892-53fa53fa31f5",
     "regions": {
      "c39ec0ea-13c4-4cb0-a7c5-1f25f8a03569": {
       "attrs": {
        "height": 0.8,
        "width": 0.8,
        "x": 0.1,
        "y": 0.1
       },
       "content": {
        "cell": "e6718047-f1c8-41cc-82eb-8d4c960566f6",
        "part": "whole"
       },
       "id": "c39ec0ea-13c4-4cb0-a7c5-1f25f8a03569"
      }
     }
    },
    "41a5431a-0699-481d-be07-66c86d76edea": {
     "id": "41a5431a-0699-481d-be07-66c86d76edea",
     "prev": "b230605e-e9de-40bf-a002-64d499eb3859",
     "regions": {
      "3ff976e9-87b7-4258-bec3-9e77f189845b": {
       "attrs": {
        "height": 0.8,
        "width": 0.8,
        "x": 0.1,
        "y": 0.1
       },
       "content": {
        "cell": "901a1cc3-dc4a-4e88-8be4-9f447e46efa0",
        "part": "whole"
       },
       "id": "3ff976e9-87b7-4258-bec3-9e77f189845b"
      }
     }
    },
    "472c2e81-1f5f-4af5-a45b-b367d4f7e980": {
     "id": "472c2e81-1f5f-4af5-a45b-b367d4f7e980",
     "prev": "a6208df6-03c7-41a2-8068-4822f7681255",
     "regions": {
      "535a015f-745b-43ba-8a14-2bf0691e5806": {
       "attrs": {
        "height": 0.8,
        "width": 0.8,
        "x": 0.1,
        "y": 0.1
       },
       "content": {
        "cell": "28778d39-e439-4e41-881f-46be8d3f3a45",
        "part": "whole"
       },
       "id": "535a015f-745b-43ba-8a14-2bf0691e5806"
      }
     }
    },
    "4ba3ce6b-ef87-4184-8180-f553155b8b66": {
     "id": "4ba3ce6b-ef87-4184-8180-f553155b8b66",
     "prev": "a1023a37-154e-4ebc-80d8-23003d182ea5",
     "regions": {
      "32d5b174-86c6-49ec-9fcf-4d0e15042e49": {
       "attrs": {
        "height": 0.8,
        "width": 0.8,
        "x": 0.1,
        "y": 0.1
       },
       "content": {
        "cell": "054d5967-225a-4a81-b1f6-b2db6b32a539",
        "part": "whole"
       },
       "id": "32d5b174-86c6-49ec-9fcf-4d0e15042e49"
      }
     }
    },
    "4c8264f1-b567-41ba-8798-2a5e1867529c": {
     "id": "4c8264f1-b567-41ba-8798-2a5e1867529c",
     "prev": "719e0fcd-1df6-411b-91f6-9ef4096f5c02",
     "regions": {
      "fdc99d61-56af-423e-8f62-b2e1278cc978": {
       "attrs": {
        "height": 0.8,
        "width": 0.8,
        "x": 0.1,
        "y": 0.1
       },
       "content": {
        "cell": "ccb352aa-b666-40b6-9c64-4670ddbf1e1a",
        "part": "whole"
       },
       "id": "fdc99d61-56af-423e-8f62-b2e1278cc978"
      }
     }
    },
    "4fef4a46-837d-48de-8d9b-35f234d4a564": {
     "id": "4fef4a46-837d-48de-8d9b-35f234d4a564",
     "prev": "89d17c1b-9b62-49a6-8903-3de51cacfb6f",
     "regions": {
      "d6cf8e28-2fd0-4dae-a44d-fa6f94b9fdff": {
       "attrs": {
        "height": 0.8,
        "width": 0.8,
        "x": 0.1,
        "y": 0.1
       },
       "content": {
        "cell": "388b417c-bdf2-40a3-abe8-e9ed4920a31d",
        "part": "whole"
       },
       "id": "d6cf8e28-2fd0-4dae-a44d-fa6f94b9fdff"
      }
     }
    },
    "5f1a90b3-2a8f-4bc9-b008-89e8b3b8c92b": {
     "id": "5f1a90b3-2a8f-4bc9-b008-89e8b3b8c92b",
     "prev": "063d3e4f-857f-4df5-baa9-10ed5c47d2ab",
     "regions": {
      "4c1a374b-e9cd-435e-9154-8c0cadefb387": {
       "attrs": {
        "height": 0.8,
        "width": 0.8,
        "x": 0.1,
        "y": 0.1
       },
       "content": {
        "cell": "b0f6ab3c-dfbe-45a0-809c-6b58eaebee58",
        "part": "whole"
       },
       "id": "4c1a374b-e9cd-435e-9154-8c0cadefb387"
      }
     }
    },
    "66eed4a0-737e-4d2d-9b7a-1e38b69f2f8c": {
     "id": "66eed4a0-737e-4d2d-9b7a-1e38b69f2f8c",
     "prev": "3232bb81-0fe6-4821-8a24-654824b9df36",
     "regions": {
      "b3455853-123c-41ce-9e49-a8112c56fc5e": {
       "attrs": {
        "height": 0.8,
        "width": 0.8,
        "x": 0.1,
        "y": 0.1
       },
       "content": {
        "cell": "2d70f5ff-02c9-4857-8790-e8dafbddc2a2",
        "part": "whole"
       },
       "id": "b3455853-123c-41ce-9e49-a8112c56fc5e"
      }
     }
    },
    "6d0f2e54-c0c4-4ded-b743-125e611b6495": {
     "id": "6d0f2e54-c0c4-4ded-b743-125e611b6495",
     "prev": "e47170f8-cbdb-43fb-9c6c-a8ff7cd2e9bf",
     "regions": {
      "80d9ec12-e37b-4173-abe1-eccfad94dfe6": {
       "attrs": {
        "height": 0.8,
        "width": 0.8,
        "x": 0.1,
        "y": 0.1
       },
       "content": {
        "cell": "779f6fc3-89f5-44b6-9322-f98398c6fcd3",
        "part": "whole"
       },
       "id": "80d9ec12-e37b-4173-abe1-eccfad94dfe6"
      }
     }
    },
    "6d1be50e-d699-4ab3-8021-edc3500f2d9d": {
     "id": "6d1be50e-d699-4ab3-8021-edc3500f2d9d",
     "prev": "7597667a-6a5a-4d9a-8da6-d5646590ec66",
     "regions": {
      "3fdc0e7c-f7db-4933-b740-31390e838a14": {
       "attrs": {
        "height": 0.8,
        "width": 0.8,
        "x": 0.1,
        "y": 0.1
       },
       "content": {
        "cell": "31fca125-9972-4156-a757-3f498469b4cc",
        "part": "whole"
       },
       "id": "3fdc0e7c-f7db-4933-b740-31390e838a14"
      }
     }
    },
    "719e0fcd-1df6-411b-91f6-9ef4096f5c02": {
     "id": "719e0fcd-1df6-411b-91f6-9ef4096f5c02",
     "prev": "085d6093-945f-4ec0-94f3-71609f80ffa5",
     "regions": {
      "e55454ec-f84d-48a6-a93f-0c1c3251f742": {
       "attrs": {
        "height": 0.8,
        "width": 0.8,
        "x": 0.1,
        "y": 0.1
       },
       "content": {
        "cell": "138b4480-2446-4807-8a9b-94edc0562899",
        "part": "whole"
       },
       "id": "e55454ec-f84d-48a6-a93f-0c1c3251f742"
      }
     }
    },
    "73e2b6f6-a77b-4ae0-9cee-37f67f9c6101": {
     "id": "73e2b6f6-a77b-4ae0-9cee-37f67f9c6101",
     "prev": "de474aa8-484e-4937-82ab-e7e2e9597488",
     "regions": {
      "bdc4fd49-57fd-4e42-900d-d4de095913ab": {
       "attrs": {
        "height": 0.8,
        "width": 0.8,
        "x": 0.1,
        "y": 0.1
       },
       "content": {
        "cell": "d2e80a5f-9593-47b2-a8c9-5344392aaec2",
        "part": "whole"
       },
       "id": "bdc4fd49-57fd-4e42-900d-d4de095913ab"
      }
     }
    },
    "7597667a-6a5a-4d9a-8da6-d5646590ec66": {
     "id": "7597667a-6a5a-4d9a-8da6-d5646590ec66",
     "prev": "f5c3e7ca-5249-4ad3-befb-bb14c1e06a8c",
     "regions": {
      "dbed1e9c-fc6d-4bbd-910b-e844f474d125": {
       "attrs": {
        "height": 0.8,
        "width": 0.8,
        "x": 0.1,
        "y": 0.1
       },
       "content": {
        "cell": "b3996316-3fb2-4a03-a1bf-d0e23eae4a6b",
        "part": "whole"
       },
       "id": "dbed1e9c-fc6d-4bbd-910b-e844f474d125"
      }
     }
    },
    "79eaa1e1-e407-4774-b1f0-4909def7ee40": {
     "id": "79eaa1e1-e407-4774-b1f0-4909def7ee40",
     "prev": "82c1a869-38f5-4c8d-b65c-737a584606f0",
     "regions": {
      "8a51f4ce-0016-4e22-a7aa-6d3f86c4418f": {
       "attrs": {
        "height": 0.8,
        "width": 0.8,
        "x": 0.1,
        "y": 0.1
       },
       "content": {
        "cell": "88ec6860-565b-4e2c-88c9-d741588bf29d",
        "part": "whole"
       },
       "id": "8a51f4ce-0016-4e22-a7aa-6d3f86c4418f"
      }
     }
    },
    "82c1a869-38f5-4c8d-b65c-737a584606f0": {
     "id": "82c1a869-38f5-4c8d-b65c-737a584606f0",
     "prev": "8eb3306c-eb76-4a69-a615-d41775e97622",
     "regions": {
      "5d292372-1f6e-49a5-8cba-c2e6bfdb9d20": {
       "attrs": {
        "height": 0.8,
        "width": 0.8,
        "x": 0.1,
        "y": 0.1
       },
       "content": {
        "cell": "53b9becf-e330-4786-aba1-ff81e8de810d",
        "part": "whole"
       },
       "id": "5d292372-1f6e-49a5-8cba-c2e6bfdb9d20"
      }
     }
    },
    "83b750ed-1911-4f06-aef1-e74be53e498e": {
     "id": "83b750ed-1911-4f06-aef1-e74be53e498e",
     "prev": "d67d50ba-8f49-4410-a7bd-7b572aeb2fcc",
     "regions": {
      "edce6f57-c09b-479e-808b-540af168b023": {
       "attrs": {
        "height": 0.8,
        "width": 0.8,
        "x": 0.1,
        "y": 0.1
       },
       "content": {
        "cell": "7f13d5f5-2e5b-418c-9d84-6f228fac08a7",
        "part": "whole"
       },
       "id": "edce6f57-c09b-479e-808b-540af168b023"
      }
     }
    },
    "89d17c1b-9b62-49a6-8903-3de51cacfb6f": {
     "id": "89d17c1b-9b62-49a6-8903-3de51cacfb6f",
     "prev": "73e2b6f6-a77b-4ae0-9cee-37f67f9c6101",
     "regions": {
      "deb201e7-64ed-4a03-b751-4e8beccf4bab": {
       "attrs": {
        "height": 0.8,
        "width": 0.8,
        "x": 0.1,
        "y": 0.1
       },
       "content": {
        "cell": "78b0c9fe-d9c5-4cb0-b0a6-007a673ea552",
        "part": "whole"
       },
       "id": "deb201e7-64ed-4a03-b751-4e8beccf4bab"
      }
     }
    },
    "8bd11ecc-e0d4-4db8-be95-5028472e995e": {
     "id": "8bd11ecc-e0d4-4db8-be95-5028472e995e",
     "prev": "83b750ed-1911-4f06-aef1-e74be53e498e",
     "regions": {
      "e478acaf-af0c-4129-a506-ca22afb1a8b4": {
       "attrs": {
        "height": 0.8,
        "width": 0.8,
        "x": 0.1,
        "y": 0.1
       },
       "content": {
        "cell": "28409266-a932-4cb5-b664-f15a0072b3e1",
        "part": "whole"
       },
       "id": "e478acaf-af0c-4129-a506-ca22afb1a8b4"
      }
     }
    },
    "8eb3306c-eb76-4a69-a615-d41775e97622": {
     "id": "8eb3306c-eb76-4a69-a615-d41775e97622",
     "prev": "e18da2b6-9299-407a-8f9f-3286a10e72fe",
     "regions": {
      "2a368a30-4695-42f3-bbbc-67a7929e7b71": {
       "attrs": {
        "height": 0.8,
        "width": 0.8,
        "x": 0.1,
        "y": 0.1
       },
       "content": {
        "cell": "dded5116-6106-4040-bd2d-699d0aeb4240",
        "part": "whole"
       },
       "id": "2a368a30-4695-42f3-bbbc-67a7929e7b71"
      }
     }
    },
    "8f768c8d-8ae2-492c-aabe-50ea43001143": {
     "id": "8f768c8d-8ae2-492c-aabe-50ea43001143",
     "prev": "5f1a90b3-2a8f-4bc9-b008-89e8b3b8c92b",
     "regions": {
      "da0d78ae-3a77-41f9-a408-b3d58d9de18c": {
       "attrs": {
        "height": 0.8,
        "width": 0.8,
        "x": 0.1,
        "y": 0.1
       },
       "content": {
        "cell": "0af32d24-60db-455c-b506-86b21a703944",
        "part": "whole"
       },
       "id": "da0d78ae-3a77-41f9-a408-b3d58d9de18c"
      }
     }
    },
    "91b864c3-8c92-4a92-bfaf-8587b01cdea1": {
     "id": "91b864c3-8c92-4a92-bfaf-8587b01cdea1",
     "prev": "a40ee760-bff2-4ebf-91bc-c7d182390c1f",
     "regions": {
      "95d474cf-c19b-4065-acc9-29503c757c08": {
       "attrs": {
        "height": 0.8,
        "width": 0.8,
        "x": 0.1,
        "y": 0.1
       },
       "content": {
        "cell": "bc9379a3-7c6b-44f7-9e64-f3ff2fca2000",
        "part": "whole"
       },
       "id": "95d474cf-c19b-4065-acc9-29503c757c08"
      }
     }
    },
    "931f3106-5e41-4d64-8717-8a2bd21845ee": {
     "id": "931f3106-5e41-4d64-8717-8a2bd21845ee",
     "prev": "d458d853-8c10-4fb9-9261-c65e54e13b51",
     "regions": {
      "49c090c0-1798-4de1-89e1-f4bcb750350d": {
       "attrs": {
        "height": 0.8,
        "width": 0.8,
        "x": 0.1,
        "y": 0.1
       },
       "content": {
        "cell": "2dafe721-a5d9-4867-9cb5-c29c9fe62825",
        "part": "whole"
       },
       "id": "49c090c0-1798-4de1-89e1-f4bcb750350d"
      }
     }
    },
    "96684ff0-4591-42e4-a4e8-f3e7153e8277": {
     "id": "96684ff0-4591-42e4-a4e8-f3e7153e8277",
     "prev": "3e253d30-6c20-4aae-b2e8-ecb6a9785078",
     "regions": {
      "f6d71c5c-81cc-4266-a95e-863975b05271": {
       "attrs": {
        "height": 0.8,
        "width": 0.8,
        "x": 0.1,
        "y": 0.1
       },
       "content": {
        "cell": "347dfb38-e311-40ae-9517-27caf0ea8e71",
        "part": "whole"
       },
       "id": "f6d71c5c-81cc-4266-a95e-863975b05271"
      }
     }
    },
    "9ed769bc-4cb0-416a-b90f-5cf358e0e821": {
     "id": "9ed769bc-4cb0-416a-b90f-5cf358e0e821",
     "prev": "1ff600f0-f6a8-4c4c-a965-3ed58f6a5c45",
     "regions": {
      "edfd6617-02f2-4acc-bb4d-c61e0e31b406": {
       "attrs": {
        "height": 0.8,
        "width": 0.8,
        "x": 0.1,
        "y": 0.1
       },
       "content": {
        "cell": "f2d4ad91-992a-4b00-b045-9bc13066832e",
        "part": "whole"
       },
       "id": "edfd6617-02f2-4acc-bb4d-c61e0e31b406"
      }
     }
    },
    "a04cae5f-70fa-441b-8610-65a668dc7e97": {
     "id": "a04cae5f-70fa-441b-8610-65a668dc7e97",
     "prev": "dd9ea429-85ea-40e1-b2d4-d4907490a8c0",
     "regions": {
      "f3bcfc1d-9fc5-400e-a192-460a48ad66f9": {
       "attrs": {
        "height": 0.8,
        "width": 0.8,
        "x": 0.1,
        "y": 0.1
       },
       "content": {
        "cell": "847c5889-0224-4ebd-9833-8e00aa3c69c0",
        "part": "whole"
       },
       "id": "f3bcfc1d-9fc5-400e-a192-460a48ad66f9"
      }
     }
    },
    "a1023a37-154e-4ebc-80d8-23003d182ea5": {
     "id": "a1023a37-154e-4ebc-80d8-23003d182ea5",
     "prev": "1507b48f-5d81-4ddf-af61-01bb0ef7071f",
     "regions": {
      "5d28116c-28f7-4d6f-bb0d-c5e389e3066f": {
       "attrs": {
        "height": 0.8,
        "width": 0.8,
        "x": 0.1,
        "y": 0.1
       },
       "content": {
        "cell": "a6366a1e-8427-47d6-a275-43694cb57bac",
        "part": "whole"
       },
       "id": "5d28116c-28f7-4d6f-bb0d-c5e389e3066f"
      }
     }
    },
    "a40ee760-bff2-4ebf-91bc-c7d182390c1f": {
     "id": "a40ee760-bff2-4ebf-91bc-c7d182390c1f",
     "prev": "04a4659b-baff-4a08-8e4c-85b52af1101a",
     "regions": {
      "49db0867-8a70-47ae-9625-6ce36d2cceea": {
       "attrs": {
        "height": 0.8,
        "width": 0.8,
        "x": 0.1,
        "y": 0.1
       },
       "content": {
        "cell": "319d33f3-8005-4880-ab32-a8ffb7b832b4",
        "part": "whole"
       },
       "id": "49db0867-8a70-47ae-9625-6ce36d2cceea"
      }
     }
    },
    "a5c58dc8-0643-4b8f-b76e-8083f52d65e6": {
     "id": "a5c58dc8-0643-4b8f-b76e-8083f52d65e6",
     "prev": "24c897fc-106a-4935-81a3-687c195c3642",
     "regions": {
      "5ec08066-685a-49f3-a9a7-8674b7b336d8": {
       "attrs": {
        "height": 0.8,
        "width": 0.8,
        "x": 0.1,
        "y": 0.1
       },
       "content": {
        "cell": "ea593efb-a016-4306-acc3-1c589a9aba80",
        "part": "whole"
       },
       "id": "5ec08066-685a-49f3-a9a7-8674b7b336d8"
      }
     }
    },
    "a6208df6-03c7-41a2-8068-4822f7681255": {
     "id": "a6208df6-03c7-41a2-8068-4822f7681255",
     "prev": "6d0f2e54-c0c4-4ded-b743-125e611b6495",
     "regions": {
      "bc965744-4f70-41d5-bd7e-ecf6561ef60e": {
       "attrs": {
        "height": 0.8,
        "width": 0.8,
        "x": 0.1,
        "y": 0.1
       },
       "content": {
        "cell": "17a54534-368f-4a20-b100-a15bfd79af57",
        "part": "whole"
       },
       "id": "bc965744-4f70-41d5-bd7e-ecf6561ef60e"
      }
     }
    },
    "b230605e-e9de-40bf-a002-64d499eb3859": {
     "id": "b230605e-e9de-40bf-a002-64d499eb3859",
     "prev": "79eaa1e1-e407-4774-b1f0-4909def7ee40",
     "regions": {
      "5e211761-44c2-46be-b9b4-3d16dfc23e2c": {
       "attrs": {
        "height": 0.8,
        "width": 0.8,
        "x": 0.1,
        "y": 0.1
       },
       "content": {
        "cell": "ab4690ce-92b9-4859-8cd7-6347ab69d70f",
        "part": "whole"
       },
       "id": "5e211761-44c2-46be-b9b4-3d16dfc23e2c"
      }
     }
    },
    "bdd774b8-7b6c-4a4b-b223-4245575e06fb": {
     "id": "bdd774b8-7b6c-4a4b-b223-4245575e06fb",
     "prev": "8bd11ecc-e0d4-4db8-be95-5028472e995e",
     "regions": {
      "47ec0fba-1b24-4db5-bb8a-79093dd2e31c": {
       "attrs": {
        "height": 0.8,
        "width": 0.8,
        "x": 0.1,
        "y": 0.1
       },
       "content": {
        "cell": "16a43b58-75b5-468c-a4b9-7ef1b9f7bd3c",
        "part": "whole"
       },
       "id": "47ec0fba-1b24-4db5-bb8a-79093dd2e31c"
      }
     }
    },
    "c2f7d196-27cb-4eac-8a46-44a9578382eb": {
     "id": "c2f7d196-27cb-4eac-8a46-44a9578382eb",
     "prev": "4fef4a46-837d-48de-8d9b-35f234d4a564",
     "regions": {
      "d060be34-dd83-47c3-b434-d1650b27866b": {
       "attrs": {
        "height": 0.8,
        "width": 0.8,
        "x": 0.1,
        "y": 0.1
       },
       "content": {
        "cell": "4cfc6109-d603-440d-9346-de9887a55180",
        "part": "whole"
       },
       "id": "d060be34-dd83-47c3-b434-d1650b27866b"
      }
     }
    },
    "cc0eb495-d643-4b46-962c-41a43458bdb6": {
     "id": "cc0eb495-d643-4b46-962c-41a43458bdb6",
     "prev": "96684ff0-4591-42e4-a4e8-f3e7153e8277",
     "regions": {
      "5c5ab111-d8dc-4f78-b07a-91126b615791": {
       "attrs": {
        "height": 0.8,
        "width": 0.8,
        "x": 0.1,
        "y": 0.1
       },
       "content": {
        "cell": "fb162f5b-d821-40a6-ad64-b8be88ccc5b3",
        "part": "whole"
       },
       "id": "5c5ab111-d8dc-4f78-b07a-91126b615791"
      }
     }
    },
    "d458d853-8c10-4fb9-9261-c65e54e13b51": {
     "id": "d458d853-8c10-4fb9-9261-c65e54e13b51",
     "prev": "256408ad-1088-4e62-8801-ab2e2c143af7",
     "regions": {
      "44e2ab12-29d5-4c51-b893-05457a4b25fc": {
       "attrs": {
        "height": 0.8,
        "width": 0.8,
        "x": 0.1,
        "y": 0.1
       },
       "content": {
        "cell": "cf401ba0-83c7-44bc-8646-9f059bc9e1e7",
        "part": "whole"
       },
       "id": "44e2ab12-29d5-4c51-b893-05457a4b25fc"
      }
     }
    },
    "d67d50ba-8f49-4410-a7bd-7b572aeb2fcc": {
     "id": "d67d50ba-8f49-4410-a7bd-7b572aeb2fcc",
     "prev": "91b864c3-8c92-4a92-bfaf-8587b01cdea1",
     "regions": {
      "5a05d632-14a8-4e14-84fc-9ee577ac8c3f": {
       "attrs": {
        "height": 0.8,
        "width": 0.8,
        "x": 0.1,
        "y": 0.1
       },
       "content": {
        "cell": "aa224697-ee0e-4a8d-871b-1e87593878a2",
        "part": "whole"
       },
       "id": "5a05d632-14a8-4e14-84fc-9ee577ac8c3f"
      }
     }
    },
    "dd9ea429-85ea-40e1-b2d4-d4907490a8c0": {
     "id": "dd9ea429-85ea-40e1-b2d4-d4907490a8c0",
     "prev": "13c976bf-16a2-47dd-90a0-299013854eb2",
     "regions": {
      "98079864-8221-43ed-aad9-282ec8919bf1": {
       "attrs": {
        "height": 0.8,
        "width": 0.8,
        "x": 0.1,
        "y": 0.1
       },
       "content": {
        "cell": "c80e4f76-b139-4a09-a0ac-9e7334cabf23",
        "part": "whole"
       },
       "id": "98079864-8221-43ed-aad9-282ec8919bf1"
      }
     }
    },
    "de474aa8-484e-4937-82ab-e7e2e9597488": {
     "id": "de474aa8-484e-4937-82ab-e7e2e9597488",
     "prev": "3a15d281-a93d-40e5-a5a0-8a2d40e5e2cd",
     "regions": {
      "ae4fec8d-8650-4c40-aa37-65be3ce20fb8": {
       "attrs": {
        "height": 0.8,
        "width": 0.8,
        "x": 0.1,
        "y": 0.1
       },
       "content": {
        "cell": "2f4522ae-6cdf-4bae-a41c-fee5a07adb72",
        "part": "whole"
       },
       "id": "ae4fec8d-8650-4c40-aa37-65be3ce20fb8"
      }
     }
    },
    "e18da2b6-9299-407a-8f9f-3286a10e72fe": {
     "id": "e18da2b6-9299-407a-8f9f-3286a10e72fe",
     "prev": "c2f7d196-27cb-4eac-8a46-44a9578382eb",
     "regions": {
      "1c3ad232-746e-40d9-bca5-f842a68e5ab5": {
       "attrs": {
        "height": 0.8,
        "width": 0.8,
        "x": 0.1,
        "y": 0.1
       },
       "content": {
        "cell": "ebd6180b-b10f-433e-a224-835aa667e548",
        "part": "whole"
       },
       "id": "1c3ad232-746e-40d9-bca5-f842a68e5ab5"
      }
     }
    },
    "e47170f8-cbdb-43fb-9c6c-a8ff7cd2e9bf": {
     "id": "e47170f8-cbdb-43fb-9c6c-a8ff7cd2e9bf",
     "prev": "cc0eb495-d643-4b46-962c-41a43458bdb6",
     "regions": {
      "ecaa29e4-8168-4770-9ab6-fe490e1b0efa": {
       "attrs": {
        "height": 0.8,
        "width": 0.8,
        "x": 0.1,
        "y": 0.1
       },
       "content": {
        "cell": "a372f970-1a9e-4671-910a-e1a52fafd1db",
        "part": "whole"
       },
       "id": "ecaa29e4-8168-4770-9ab6-fe490e1b0efa"
      }
     }
    },
    "e9e943d7-a989-4760-a5db-000473367fd5": {
     "id": "e9e943d7-a989-4760-a5db-000473367fd5",
     "prev": "2661062c-8666-4112-83bb-ba610a950a0c",
     "regions": {
      "031723c4-c296-4c13-b040-8eaec0a6a6b6": {
       "attrs": {
        "height": 0.8,
        "width": 0.8,
        "x": 0.1,
        "y": 0.1
       },
       "content": {
        "cell": "bbca24ea-954e-43be-a929-3325e2eeb153",
        "part": "whole"
       },
       "id": "031723c4-c296-4c13-b040-8eaec0a6a6b6"
      }
     }
    },
    "f5c3e7ca-5249-4ad3-befb-bb14c1e06a8c": {
     "id": "f5c3e7ca-5249-4ad3-befb-bb14c1e06a8c",
     "prev": "931f3106-5e41-4d64-8717-8a2bd21845ee",
     "regions": {
      "4077b87e-69ad-4ff1-a0d7-e297dc36c8a4": {
       "attrs": {
        "height": 0.8,
        "width": 0.8,
        "x": 0.1,
        "y": 0.1
       },
       "content": {
        "cell": "0cdc900e-dfc0-4cba-8583-cadb92ca68c0",
        "part": "whole"
       },
       "id": "4077b87e-69ad-4ff1-a0d7-e297dc36c8a4"
      }
     }
    },
    "f81ee293-66c0-48ce-a892-53fa53fa31f5": {
     "id": "f81ee293-66c0-48ce-a892-53fa53fa31f5",
     "prev": "bdd774b8-7b6c-4a4b-b223-4245575e06fb",
     "regions": {
      "42a9d88e-408f-4d02-a4b2-a6768367092f": {
       "attrs": {
        "height": 0.8,
        "width": 0.8,
        "x": 0.1,
        "y": 0.1
       },
       "content": {
        "cell": "04aaf657-4931-480b-965a-cd12e5f68fd3",
        "part": "whole"
       },
       "id": "42a9d88e-408f-4d02-a4b2-a6768367092f"
      }
     }
    }
   },
   "themes": {}
  }
 },
 "nbformat": 4,
 "nbformat_minor": 0
}
