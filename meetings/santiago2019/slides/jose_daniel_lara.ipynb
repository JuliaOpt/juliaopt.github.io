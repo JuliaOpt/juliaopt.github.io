{
 "cells": [
  {
   "cell_type": "markdown",
   "metadata": {
    "slideshow": {
     "slide_type": "slide"
    }
   },
   "source": [
    "# PowerSymulations.jl\n",
    "### A Flexible, Modular and Scalable Framework for Power System Optimization Modeling\n",
    "#### José Daniel Lara \n",
    "#### Energy and Resources Group UC Berkeley / National Renewable Energy Laboratory\n",
    "\n",
    "<img src=\"./SIIP-Design-Demo/ucbseal_139_540.png\" alt=\"nrel\" width=\"10%\"/> \n",
    "<img src=\"./SIIP-Design-Demo/NREL_header.gif\" alt=\"UCB\" width=\"35%\"/>"
   ]
  },
  {
   "cell_type": "markdown",
   "metadata": {
    "slideshow": {
     "slide_type": "slide"
    }
   },
   "source": [
    "## SIIP Power Systems Julia Packages\n",
    "\n",
    "The core design of the Scalable Integrated Infrastructure Planning (SIIP) simulation platform is that models are comprised of two major parts: \n",
    "\n",
    "<center><img src=\"./SIIP-Design-Demo/data_formulation.png\" alt=\"fig1\" width=\"50%\"/></center>\n",
    "\n",
    " - *[PowerSystems.jl](https://github.com/NREL/PowerSystems.jl)* Takes advantage of Julia's dynamic types and functional dispatch to define data schemas for Power System's data in a structured yet extensible way.\n",
    "\n",
    " - *[PowerSimulations.jl](https://github.com/NREL/PowerSimulations.jl)* We leverage the types/structs defined in `PowerSystems.jl` to utilize multiple dispatch in the construction of device models within operational models for power systems analysis. \n"
   ]
  },
  {
   "cell_type": "markdown",
   "metadata": {
    "slideshow": {
     "slide_type": "slide"
    }
   },
   "source": [
    "# Framework\n",
    "\n",
    "- In this approach, mathematical programming serves as the unifying framework for operational models in power systems. \n",
    "- The underlying meta model for `PowerSimulations.jl` can be described as follows: \n",
    "\n",
    "<center><img src=\"SIIP-Design-Demo/eqs1.png\" alt=\"system\" width=\"40%\" align=\"center\"/></center>\n",
    "\n",
    "    \n",
    "The contributions are: \n",
    "- Develop a framework that enables developers and researchers to create and integrate new formulations to system-wide models to study renewable energy integration. \n",
    "- Allow analysts to describe the functional assumptions used in their models in a language that is simple yet clearly states the assumptions. "
   ]
  },
  {
   "cell_type": "code",
   "execution_count": 1,
   "metadata": {
    "slideshow": {
     "slide_type": "skip"
    }
   },
   "outputs": [],
   "source": [
    "] activate nb-environs/SMD_env"
   ]
  },
  {
   "cell_type": "code",
   "execution_count": 2,
   "metadata": {
    "slideshow": {
     "slide_type": "skip"
    }
   },
   "outputs": [
    {
     "name": "stdout",
     "output_type": "stream",
     "text": [
      "\u001b[32m\u001b[1m  Updating\u001b[22m\u001b[39m registry at `~/.julia/registries/General`\n",
      "\u001b[32m\u001b[1m  Updating\u001b[22m\u001b[39m git-repo `https://github.com/JuliaRegistries/General.git`\n",
      "\u001b[?25l\u001b[2K\u001b[?25h"
     ]
    }
   ],
   "source": [
    "] instantiate"
   ]
  },
  {
   "cell_type": "code",
   "execution_count": 3,
   "metadata": {
    "slideshow": {
     "slide_type": "skip"
    }
   },
   "outputs": [
    {
     "name": "stdout",
     "output_type": "stream",
     "text": [
      "\u001b[32m\u001b[1m  Updating\u001b[22m\u001b[39m registry at `~/.julia/registries/General`\n",
      "\u001b[32m\u001b[1m  Updating\u001b[22m\u001b[39m git-repo `https://github.com/JuliaRegistries/General.git`\n",
      "\u001b[?25l\u001b[2K\u001b[?25h\u001b[32m\u001b[1m  Updating\u001b[22m\u001b[39m git-repo `https://github.com/JuliaOpt/JuMP.jl.git`\n",
      "\u001b[?25l\u001b[2K\u001b[?25h\u001b[32m\u001b[1m  Updating\u001b[22m\u001b[39m git-repo `https://github.com/lanl-ansi/InfrastructureModels.jl.git`\n",
      "\u001b[?25l\u001b[2K\u001b[?25h\u001b[32m\u001b[1m  Updating\u001b[22m\u001b[39m git-repo `https://github.com/lanl-ansi/PowerModels.jl.git`\n",
      "\u001b[?25l\u001b[2K\u001b[?25h\u001b[32m\u001b[1m  Updating\u001b[22m\u001b[39m git-repo `https://github.com/NREL/PowerSystems.jl.git`\n",
      "\u001b[?25l\u001b[2K\u001b[?25h\u001b[32m\u001b[1m Resolving\u001b[22m\u001b[39m package versions...\n",
      "\u001b[32m\u001b[1m  Updating\u001b[22m\u001b[39m `~/Dropbox/Code/SIIP-management/PowerSystems_Notebooks/nb-environs/SMD_env/Project.toml`\n",
      "\u001b[90m [no changes]\u001b[39m\n",
      "\u001b[32m\u001b[1m  Updating\u001b[22m\u001b[39m `~/Dropbox/Code/SIIP-management/PowerSystems_Notebooks/nb-environs/SMD_env/Manifest.toml`\n",
      "\u001b[90m [no changes]\u001b[39m\n"
     ]
    }
   ],
   "source": [
    "] up"
   ]
  },
  {
   "cell_type": "code",
   "execution_count": 4,
   "metadata": {
    "slideshow": {
     "slide_type": "skip"
    }
   },
   "outputs": [],
   "source": [
    "using Logging\n",
    "# Testing Topological components of the schema\n",
    "gl = global_logger()\n",
    "global_logger(ConsoleLogger(gl.stream, Logging.Error));"
   ]
  },
  {
   "cell_type": "code",
   "execution_count": 5,
   "metadata": {
    "slideshow": {
     "slide_type": "skip"
    }
   },
   "outputs": [
    {
     "data": {
      "text/html": [
       "    <script class='js-collapse-script'>\n",
       "        var curMatch =\n",
       "            window.location.href\n",
       "            .match(/(.*?)\\/notebooks\\/.*\\.ipynb/);\n",
       "\n",
       "        curMatch = curMatch ||\n",
       "            window.location.href\n",
       "            .match(/(.*?)\\/apps\\/.*\\.ipynb/);\n",
       "\n",
       "        if ( curMatch ) {\n",
       "            $('head').append('<base href=\"' + curMatch[1] + '/\">');\n",
       "        }\n",
       "    </script>\n"
      ],
      "text/plain": [
       "HTML{String}(\"    <script class='js-collapse-script'>\\n        var curMatch =\\n            window.location.href\\n            .match(/(.*?)\\\\/notebooks\\\\/.*\\\\.ipynb/);\\n\\n        curMatch = curMatch ||\\n            window.location.href\\n            .match(/(.*?)\\\\/apps\\\\/.*\\\\.ipynb/);\\n\\n        if ( curMatch ) {\\n            \\$('head').append('<base href=\\\"' + curMatch[1] + '/\\\">');\\n        }\\n    </script>\\n\")"
      ]
     },
     "metadata": {},
     "output_type": "display_data"
    },
    {
     "data": {
      "text/html": [
       "<script class='js-collapse-script' src='/assetserver/7b1d94ba70d74acc9f7918a983d92733fea6584e-assets/webio/dist/bundle.js'></script>"
      ],
      "text/plain": [
       "HTML{String}(\"<script class='js-collapse-script' src='/assetserver/7b1d94ba70d74acc9f7918a983d92733fea6584e-assets/webio/dist/bundle.js'></script>\")"
      ]
     },
     "metadata": {},
     "output_type": "display_data"
    },
    {
     "data": {
      "text/html": [
       "<script class='js-collapse-script' src='/assetserver/7b1d94ba70d74acc9f7918a983d92733fea6584e-assets/providers/ijulia_setup.js'></script>"
      ],
      "text/plain": [
       "HTML{String}(\"<script class='js-collapse-script' src='/assetserver/7b1d94ba70d74acc9f7918a983d92733fea6584e-assets/providers/ijulia_setup.js'></script>\")"
      ]
     },
     "metadata": {},
     "output_type": "display_data"
    },
    {
     "data": {
      "text/html": [
       "  <script class='js-collapse-script'>\n",
       "    $('.js-collapse-script').parent('.output_subarea').css('padding', '0');\n",
       "  </script>\n"
      ],
      "text/plain": [
       "HTML{String}(\"  <script class='js-collapse-script'>\\n    \\$('.js-collapse-script').parent('.output_subarea').css('padding', '0');\\n  </script>\\n\")"
      ]
     },
     "metadata": {},
     "output_type": "display_data"
    }
   ],
   "source": [
    "tsteps = 2\n",
    "include(\"SIIP-Design-Demo/demo-preload.jl\");"
   ]
  },
  {
   "cell_type": "markdown",
   "metadata": {
    "nbpresent": {
     "id": "862ec794-fd27-4ffd-acac-95acb3ebc058"
    },
    "slideshow": {
     "slide_type": "slide"
    }
   },
   "source": [
    "## 5-Bus System Data\n",
    "\n",
    "For this presentation, we will use the 5-bus test system for examples. \n",
    "\n",
    "<center><img src=\"./SIIP-Design-Demo/5bus.png\" alt=\"system\" width=\"50%\"></center>\n",
    "\n",
    "- It is possible to store the data for the system in a formal type structure. \n",
    "- The structure organizes the generators, branches, and topological data. \n",
    "- Using structs/types to handle system data enables the use of multiple dispatch to perform specific operations depending on the device."
   ]
  },
  {
   "cell_type": "code",
   "execution_count": 6,
   "metadata": {
    "slideshow": {
     "slide_type": "subslide"
    }
   },
   "outputs": [
    {
     "data": {
      "text/plain": [
       "PowerSystem:\n",
       "   buses: Bus[Bus(name=\"nodeA\"), Bus(name=\"nodeB\"), Bus(name=\"nodeC\"), Bus(name=\"nodeD\"), Bus(name=\"nodeE\")]\n",
       "   generators: \n",
       "     GenClasses(T:5,R:0,H:0):\n",
       "   thermal: ThermalDispatch[ThermalDispatch(name=\"Alta\"), ThermalDispatch(name=\"Park City\"), ThermalDispatch(name=\"Solitude\"), ThermalDispatch(name=\"Sundance\"), ThermalDispatch(name=\"Brighton\")]\n",
       "   renewable: nothing\n",
       "   hydro: nothing\n",
       "     (end generators)\n",
       "   loads: PowerLoad[PowerLoad(name=\"Bus2\"), PowerLoad(name=\"Bus3\"), PowerLoad(name=\"Bus4\")]\n",
       "   branches: Line[Line(name=\"1\"), Line(name=\"2\"), Line(name=\"3\"), Line(name=\"4\"), Line(name=\"5\"), Line(name=\"6\")]\n",
       "   storage: nothing\n",
       "   basepower: 100.0\n",
       "   time_periods: 2"
      ]
     },
     "execution_count": 6,
     "metadata": {},
     "output_type": "execute_result"
    }
   ],
   "source": [
    "sys5b_th"
   ]
  },
  {
   "cell_type": "code",
   "execution_count": 7,
   "metadata": {
    "slideshow": {
     "slide_type": "fragment"
    }
   },
   "outputs": [
    {
     "data": {
      "text/plain": [
       "GenClasses(T:5,R:0,H:0):\n",
       "   thermal: ThermalDispatch[ThermalDispatch(name=\"Alta\"), ThermalDispatch(name=\"Park City\"), ThermalDispatch(name=\"Solitude\"), ThermalDispatch(name=\"Sundance\"), ThermalDispatch(name=\"Brighton\")]\n",
       "   renewable: nothing\n",
       "   hydro: nothing"
      ]
     },
     "execution_count": 7,
     "metadata": {},
     "output_type": "execute_result"
    }
   ],
   "source": [
    "sys5b_th.generators"
   ]
  },
  {
   "cell_type": "code",
   "execution_count": 8,
   "metadata": {
    "slideshow": {
     "slide_type": "subslide"
    }
   },
   "outputs": [
    {
     "data": {
      "text/plain": [
       "Bus:\n",
       "   number: 1\n",
       "   name: nodeA\n",
       "   bustype: PV\n",
       "   angle: 0.0\n",
       "   voltage: 1.0\n",
       "   voltagelimits: (min = 0.9, max = 1.05)\n",
       "   basevoltage: 230.0"
      ]
     },
     "execution_count": 8,
     "metadata": {},
     "output_type": "execute_result"
    }
   ],
   "source": [
    "sys5b_th.buses[1]"
   ]
  },
  {
   "cell_type": "code",
   "execution_count": 9,
   "metadata": {
    "slideshow": {
     "slide_type": "fragment"
    }
   },
   "outputs": [
    {
     "data": {
      "text/plain": [
       "Line:\n",
       "   name: 1\n",
       "   available: true\n",
       "   connectionpoints: (from = Bus(name=\"nodeA\"), to = Bus(name=\"nodeB\"))\n",
       "   r: 0.00281\n",
       "   x: 0.0281\n",
       "   b: (from = 0.00356, to = 0.00356)\n",
       "   rate: 2.0\n",
       "   anglelimits: (min = -0.7, max = 0.7)"
      ]
     },
     "execution_count": 9,
     "metadata": {},
     "output_type": "execute_result"
    }
   ],
   "source": [
    "sys5b_th.branches[1]"
   ]
  },
  {
   "cell_type": "markdown",
   "metadata": {
    "slideshow": {
     "slide_type": "slide"
    }
   },
   "source": [
    "## Design Principle 1: Flexibility\n",
    "### Specification of Device Models (Formulations)\n",
    "\n",
    "- Optimization problems are created by applying model formulations to the device data structure. \n",
    " \n",
    "-  `PowerSimulations.jl` builds a device formulation by calling functions with common constraint structures, enabling code re-usability and consistency across device formulations. \n",
    "\n",
    "- The equations that comprise each device formulation are dispatched based on the specification of the device type, device formulation and transmission formulation.  "
   ]
  },
  {
   "cell_type": "markdown",
   "metadata": {
    "slideshow": {
     "slide_type": "subslide"
    }
   },
   "source": [
    "<center><img src=\"./SIIP-Design-Demo/type_tree.png\" alt=\"device_spec\" width=\"60%\"></center>"
   ]
  },
  {
   "cell_type": "markdown",
   "metadata": {
    "slideshow": {
     "slide_type": "subslide"
    }
   },
   "source": [
    "<center><img src=\"./SIIP-Design-Demo/device.png\" alt=\"device_spec\" width=\"50%\"></center>"
   ]
  },
  {
   "cell_type": "code",
   "execution_count": 33,
   "metadata": {
    "slideshow": {
     "slide_type": "skip"
    }
   },
   "outputs": [
    {
     "data": {
      "text/html": [
       "    <!DOCTYPE html>\n",
       "    <html>\n",
       "    <head>\n",
       "        <meta charset=\"UTF-8\">\n",
       "        <title>Julia D3Tree</title>\n",
       "    </head>\n",
       "    <body>\n",
       "    <div id=\"treevissyLeTTRF\">\n",
       "    <style>\n",
       "        \n",
       ".node {\n",
       "    cursor: pointer;\n",
       "}\n",
       "\n",
       ".node circle {\n",
       "\t  fill: #fff;\n",
       "\t  stroke: steelblue;\n",
       "\t  stroke-width: 3px;\n",
       "      r: 10;\n",
       "}\n",
       "\n",
       ".node rect {\n",
       "\t  fill: #fff;\n",
       "\t  stroke: steelblue;\n",
       "\t  stroke-width: 3px;\n",
       "      x: -10;\n",
       "      y: -10;\n",
       "      width: 20;\n",
       "      height: 20;\n",
       "}\n",
       "\n",
       ".node path {\n",
       "    fill: #ffffff;\n",
       "    /* stroke: steelblue; */\n",
       "    stroke-width: 2px;\n",
       "}\n",
       ".node text {\n",
       "    font-family: Arial, Helvetica, sans-serif;\n",
       "    font-style: normal;\n",
       "    font-size: 12px;\n",
       "}\n",
       ".link /* path */ {\n",
       "    fill: none;\n",
       "    stroke: #cccccc;\n",
       "    stroke-width: 2px;\n",
       "}\n",
       ".link text {\n",
       "    font-family: Arial, Helvetica, sans-serif;\n",
       "    font-style: normal;\n",
       "    font-size: 12px;\n",
       "}\n",
       ".hover text{\n",
       "    font-family: Arial, Helvetica, sans-serif;\n",
       "    font-style: normal;\n",
       "    font-size: 12px;\n",
       "}\n",
       "\n",
       "/*\n",
       ".svg-container {\n",
       "    display: inline-block;\n",
       "    position: relative;\n",
       "    width: 100%;\n",
       "    padding-bottom: 100%;\n",
       "    vertical-align: top;\n",
       "    overflow: hidden;\n",
       "}\n",
       ".svg-content-responsive {\n",
       "    display: inline-block;\n",
       "    position: absolute;\n",
       "    top: 10px;\n",
       "    left: 0;\n",
       "}\n",
       "*/\n",
       "\n",
       "    </style>\n",
       "    <script>\n",
       "       (function(){\n",
       "        var treeData = {\"children\":[[2,5],[3,4],[],[],[]],\"text\":[\"PowerSimulations\\nAbstractRenewableFormulation\",\"PowerSimulations\\nAbstractRenewableDispatchForm\",\"PowerSimulations\\nRenewableFullDispatch\",\"PowerSimulations\\nRenewableConstantPowerFactor\",\"PowerSimulations\\nRenewableFixed\"],\"tooltip\":[\"Abstract\",\"Abstract\",\"\",\"\",\"\"],\"style\":[\"\",\"\",\"\",\"\",\"\"],\"link_style\":[\"\",\"\",\"\",\"\",\"\"],\"title\":\"Julia D3Tree\",\"options\":{\"tooltip\":[\"Abstract\",\"Abstract\",\"\",\"\",\"\"],\"text\":[\"PowerSimulations\\nAbstractRenewableFormulation\",\"PowerSimulations\\nAbstractRenewableDispatchForm\",\"PowerSimulations\\nRenewableFullDispatch\",\"PowerSimulations\\nRenewableConstantPowerFactor\",\"PowerSimulations\\nRenewableFixed\"],\"init_expand\":2}};\n",
       "        var rootID = 1-1;\n",
       "        var div = \"treevissyLeTTRF\";\n",
       "        var initExpand = 2\n",
       "        var initDuration = 750\n",
       "        var svgHeight = 600\n",
       "        if (typeof $ === 'undefined') {\n",
       "    loadScript(\"https://code.jquery.com/jquery-3.1.1.min.js\", run);\n",
       "} else {\n",
       "    run();\n",
       "}\n",
       "\n",
       "function run() {\n",
       "    if (typeof d3 === 'undefined') {\n",
       "        loadScript(\"https://d3js.org/d3.v3.js\", showTree);\n",
       "    } else {\n",
       "        showTree();\n",
       "    }\n",
       "}\n",
       "\n",
       "function loadScript(url, callback)\n",
       "{\n",
       "    console.log(\"starting script load...\")\n",
       "    // Adding the script tag to the head as suggested before\n",
       "    var head = document.getElementsByTagName('head')[0];\n",
       "    var script = document.createElement('script');\n",
       "    script.type = 'text/javascript';\n",
       "    script.src = url;\n",
       "\n",
       "    // Then bind the event to the callback function.\n",
       "    // There are several events for cross browser compatibility.\n",
       "    script.onreadystatechange = callback;\n",
       "    script.onload = callback;\n",
       "\n",
       "    // Fire the loading\n",
       "    head.appendChild(script);\n",
       "}\n",
       "\n",
       "function showTree() {\n",
       "        \n",
       "    // var margin = {top: 20, right: 120, bottom: 20, left: 120},\n",
       "    var margin = {top: 20, right: 120, bottom: 80, left: 120},\n",
       "        width = $(\"#\"+div).width() - margin.right - margin.left,\n",
       "        height = svgHeight - margin.top - margin.bottom;\n",
       "        // TODO make height a parameter of TreeVisualizer\n",
       "\n",
       "    var i = 0,\n",
       "        root;\n",
       "\n",
       "    var tree = d3.layout.tree()\n",
       "        .size([width, height]);\n",
       "\n",
       "    var diagonal = d3.svg.diagonal();\n",
       "        //.projection(function(d) { return [d.y, d.x]; });\n",
       "        // uncomment above to make the tree go horizontally\n",
       "\n",
       "    // see http://stackoverflow.com/questions/16265123/resize-svg-when-window-is-resized-in-d3-js\n",
       "    if (d3.select(\"#\"+div+\"_svg\").empty()) {\n",
       "        $(\".d3twarn\").remove();\n",
       "        d3.select(\"#\"+div).append(\"svg\")\n",
       "            .attr(\"id\", div+\"_svg\")\n",
       "            .attr(\"width\", width + margin.right + margin.left)\n",
       "            .attr(\"height\", height + margin.top + margin.bottom);\n",
       "    }\n",
       "\n",
       "    d3.select(\"#\"+div+\"_svg\").selectAll(\"*\").remove();\n",
       "\n",
       "    var svg = d3.select(\"#\"+div+\"_svg\")\n",
       "        .append(\"g\")\n",
       "            .attr(\"transform\", \"translate(\" + margin.left + \",\" + margin.top + \")\");\n",
       "\n",
       "    // console.log(\"tree data:\");\n",
       "    // console.log(treeData[rootID]);\n",
       "    root = createDisplayNode(rootID, initExpand);\n",
       "    root.x0 = width / 2;\n",
       "    root.y0 = 0;\n",
       "\n",
       "    update(root, initDuration);\n",
       "    console.log(\"tree should appear\");\n",
       "\n",
       "    function createDisplayNode(id, expandLevel) {\n",
       "      var dnode = {\"dataID\":id,\n",
       "                   \"children\": null,\n",
       "                   \"_children\":null};\n",
       "      if (expandLevel > 0) {\n",
       "        initializeChildren(dnode, expandLevel);\n",
       "      }\n",
       "      return dnode;\n",
       "    }\n",
       "\n",
       "    function initializeChildren(d, expandLevel) {\n",
       "      // create children\n",
       "      var children = treeData.children[d.dataID];\n",
       "      d.children = [];\n",
       "      if (children) {\n",
       "        for (var i = 0; i < children.length; i++) {\n",
       "          var cid = children[i]-1;\n",
       "          d.children.push(createDisplayNode(cid, expandLevel-1));\n",
       "        }\n",
       "      }\n",
       "    }\n",
       "\n",
       "    /**\n",
       "     * Recursively called to update each node in the tree.\n",
       "     * \n",
       "     * source is a d3 node that has position, etc.\n",
       "    */\n",
       "    function update(source, duration) {\n",
       "\n",
       "      width = $(\"#\"+div).width() - margin.right - margin.left,\n",
       "      height = $(\"#\"+div).height() - margin.top - margin.bottom;\n",
       "\n",
       "      tree.size([width,height]);\n",
       "      d3.select(\"#\"+div).attr(\"width\", width + margin.right + margin.left)\n",
       "            .attr(\"height\", height + margin.top + margin.bottom);\n",
       "      d3.select(\"#\"+div+\"_svg\").attr(\"width\", width + margin.right + margin.left)\n",
       "             .attr(\"height\", height + margin.top + margin.bottom);\n",
       "\n",
       "\n",
       "      // Compute the new tree layout.\n",
       "      var nodes = tree.nodes(root).reverse(),\n",
       "          links = tree.links(nodes);\n",
       "\n",
       "\n",
       "      // Update the nodes…\n",
       "      var node = svg.selectAll(\"g.node\")\n",
       "          .data(nodes, function(d) { return d.id || (d.id = ++i); });\n",
       "\n",
       "      // Enter any new nodes at the parent's previous position.\n",
       "      var nodeEnter = node.enter().append(\"g\")\n",
       "          .attr(\"class\", \"node\")\n",
       "          .attr(\"transform\", function(d) { return \"translate(\" + source.x0 + \",\" + source.y0 + \")\"; })\n",
       "          .on(\"click\", click)\n",
       "\n",
       "      nodeEnter.append(\"circle\")\n",
       "          .attr(\"r\", \"10px\")\n",
       "          .attr(\"style\", function(d) { return treeData.style[d.dataID]; } )\n",
       "\n",
       "      var tbox = nodeEnter.append(\"text\")\n",
       "          .attr(\"y\", 25)\n",
       "          .attr(\"text-anchor\", \"middle\")\n",
       "          //.text( function(d) { return treeData.text[d.dataID]; } )\n",
       "          .style(\"fill-opacity\", 1e-6);\n",
       "\n",
       "      tbox.each( function(d) {\n",
       "          var el = d3.select(this)\n",
       "          var text = treeData.text[d.dataID];\n",
       "          var lines = text.split('\\n');\n",
       "          for (var i = 0; i < lines.length; i++) {\n",
       "              var tspan = el.append(\"tspan\").text(lines[i]);\n",
       "              if (i > 0) {\n",
       "                  tspan.attr(\"x\", 0).attr(\"dy\", \"1.2em\");\n",
       "              }\n",
       "          }\n",
       "      });\n",
       "\n",
       "      //tooltip\n",
       "      nodeEnter.append(\"title\").text( function(d) { return treeData.tooltip[d.dataID];} );\n",
       "\n",
       "      // Transition nodes to their new position.\n",
       "      var nodeUpdate = node.transition()\n",
       "          .duration(duration)\n",
       "          .attr(\"transform\", function(d) { return \"translate(\" + d.x + \",\" + d.y + \")\"; });\n",
       "\n",
       "      nodeUpdate.select(\"text\")\n",
       "          .style(\"fill-opacity\", 1);\n",
       "\n",
       "      // Transition exiting nodes to the parent's new position.\n",
       "      var nodeExit = node.exit().transition()\n",
       "          .duration(duration)\n",
       "          .attr(\"transform\", function(d) { return \"translate(\" + source.x + \",\" + source.y + \")\"; })\n",
       "          .remove();\n",
       "\n",
       "      nodeExit.select(\"text\")\n",
       "          .style(\"fill-opacity\", 1e-6);\n",
       "\n",
       "      // Update the links…\n",
       "      var link = svg.selectAll(\"path.link\")\n",
       "          .data(links, function(d) { return d.target.id; });\n",
       "\n",
       "      // Enter any new links at the parent's previous position.\n",
       "      // XXX link width should be based on transition data, not node data\n",
       "      link.enter().insert(\"path\", \"g\")\n",
       "          .attr(\"class\", \"link\")\n",
       "          .attr(\"style\", function(d) {\n",
       "              var ls = treeData.link_style[d.target.dataID];\n",
       "              return ls;\n",
       "          } )\n",
       "          .attr(\"d\", function(d) {\n",
       "            var o = {x: source.x0, y: source.y0};\n",
       "            return diagonal({source: o, target: o});\n",
       "          });\n",
       "\n",
       "      // Transition links to their new position.\n",
       "      link.transition()\n",
       "          .duration(duration)\n",
       "          .attr(\"d\", diagonal);\n",
       "\n",
       "      // Transition exiting nodes to the parent's new position.\n",
       "      link.exit().transition()\n",
       "          .duration(duration)\n",
       "          .attr(\"d\", function(d) {\n",
       "            var o = {x: source.x, y: source.y};\n",
       "            return diagonal({source: o, target: o});\n",
       "          })\n",
       "          .remove();\n",
       "\n",
       "      // Stash the old positions for transition.\n",
       "      nodes.forEach(function(d) {\n",
       "        d.x0 = d.x;\n",
       "        d.y0 = d.y;\n",
       "      });\n",
       "    }\n",
       "\n",
       "    // Toggle children on click.\n",
       "    function click(d) {\n",
       "      if (d.children) {\n",
       "        d._children = d.children;\n",
       "        d.children = null;\n",
       "      } else if (d._children) {\n",
       "        d.children = d._children;\n",
       "        d._children = null;\n",
       "      } else {\n",
       "        initializeChildren(d, 1);\n",
       "      }\n",
       "      update(d, 750);\n",
       "    }\n",
       "\n",
       "}\n",
       "\n",
       "        })();\n",
       "    </script>\n",
       "    <p class=\"d3twarn\">\n",
       "    Attempting to display the tree. If the tree is large, this may take some time.\n",
       "    </p>\n",
       "    <p class=\"d3twarn\">\n",
       "    Note: D3Trees.jl requires an internet connection. If no tree appears, please check your connection. To help fix this, please see <a href=\"https://github.com/sisl/D3Trees.jl/issues/10\">this issue</a>. You may also diagnose errors with the javascript console (Ctrl-Shift-J in chrome).\n",
       "    </p>\n",
       "    </div>\n",
       "    </body>\n",
       "    </html>\n",
       "\n"
      ],
      "text/plain": [
       "PowerSimulations\n",
       "AbstractRenewableFormulation\n",
       "├──PowerSimulations\n",
       "│  AbstractRenewableDispatchForm\n",
       "│  ├──PowerSimulations\n",
       "│  │  RenewableFullDispatch\n",
       "│  └──PowerSimulations\n",
       "│     RenewableConstantPowerFactor\n",
       "└──PowerSimulations\n",
       "   RenewableFixed\n"
      ]
     },
     "metadata": {},
     "output_type": "display_data"
    }
   ],
   "source": [
    "display(TypeTree(PSI.AbstractRenewableFormulation,init_expand = 2,scopesep=\"\\n\"))"
   ]
  },
  {
   "cell_type": "markdown",
   "metadata": {
    "slideshow": {
     "slide_type": "subslide"
    }
   },
   "source": [
    "## Example Thermal Generators \n",
    "\n",
    "- The most generic model for a thermal generator in a power system operations model includes the commitment decisions. \n",
    "- The descriptor of the devices can be directly mapped into the optimization mathematical program.\n",
    "- An Abstract Type higher up in the tree will generate a more general model of the device. \n",
    "<br>\n",
    "\n",
    "```Julia\n",
    "function activepower_constraints(ps_m::CanonicalModel, \n",
    "                                 devices::Array{T,1}, \n",
    "                                 device_formulation::Type{D}, \n",
    "                                 system_formulation::Type{S}, \n",
    "                                 time_range::UnitRange{Int64}) \n",
    "                                    where {T <: PSY.ThermalGen, \n",
    "                                           D <: AbstractThermalFormulation, \n",
    "                                           S <: PM.AbstractPowerFormulation}\n",
    "\n",
    "    range_data = [(g.name, g.tech.activepowerlimits) for g in devices]\n",
    "\n",
    "    device_semicontinuousrange(ps_m, range_data, time_range, \n",
    "                               :thermal_active_range, :Pth, :on_th)\n",
    "\n",
    "    return\n",
    "end\n",
    "```"
   ]
  },
  {
   "cell_type": "markdown",
   "metadata": {
    "slideshow": {
     "slide_type": "subslide"
    }
   },
   "source": [
    "- When a more specific formulation such as `ThermalDispatch` is used, the active power variables constraints are created as a range without the binary component. \n",
    "<br>\n",
    "\n",
    "```Julia\n",
    "function activepower_constraints(ps_m::CanonicalModel, \n",
    "                                 devices::Array{T,1}, \n",
    "                                 device_formulation::Type{D}, \n",
    "                                 system_formulation::Type{S}, \n",
    "                                 time_range::UnitRange{Int64}) \n",
    "                                    where {T <: PSY.ThermalGen, \n",
    "                                           D <: AbstractThermalDispatchForm, \n",
    "                                           S <: PM.AbstractPowerFormulation}\n",
    "\n",
    "    range_data = [(g.name, g.tech.activepowerlimits) for g in devices]\n",
    "\n",
    "    device_range(ps_m, range_data, time_range, \n",
    "                 :thermal_active_range, :Pth)\n",
    "\n",
    "    return\n",
    "\n",
    "end\n",
    "```"
   ]
  },
  {
   "cell_type": "markdown",
   "metadata": {
    "slideshow": {
     "slide_type": "subslide"
    }
   },
   "source": [
    "``` Julia\n",
    "function device_range(ps_m::CanonicalModel, \n",
    "                range_data::Array{Tuple{String,NamedTuple{(:min, :max),Tuple{Float64,Float64}}},1}, \n",
    "                time_range::UnitRange{Int64}, \n",
    "                cons_name::Symbol, \n",
    "                var_name::Symbol)\n",
    "\n",
    "    ps_m.constraints[cons_name] = \n",
    "    JuMP.Containers.DenseAxisArray{JuMP.ConstraintRef}\n",
    "    (undef, [r[1] for r in range_data], time_range)\n",
    "\n",
    "    for t in time_range, r in range_data\n",
    "\n",
    "            ps_m.constraints[cons_name][r[1], t] = \n",
    "            JuMP.@constraint(ps_m.JuMPmodel, r[2].min <= ps_m.variables[var_name][r[1], t] <= r[2].max)\n",
    "\n",
    "    end\n",
    "\n",
    "    return\n",
    "\n",
    "end\n",
    "```"
   ]
  },
  {
   "cell_type": "code",
   "execution_count": 11,
   "metadata": {
    "slideshow": {
     "slide_type": "skip"
    }
   },
   "outputs": [],
   "source": [
    "ED = PSI.EconomicDispatch(sys5b_th, PSI.CopperPlatePowerModel; optimizer = GLPK_optimizer);\n",
    "UC = PSI.UnitCommitment(sys5b_th, PSI.CopperPlatePowerModel; optimizer = GLPK_optimizer);"
   ]
  },
  {
   "cell_type": "code",
   "execution_count": 12,
   "metadata": {
    "slideshow": {
     "slide_type": "subslide"
    }
   },
   "outputs": [
    {
     "data": {
      "text/plain": [
       "PowerSimulations.DeviceModel{ThermalGen,PowerSimulations.ThermalDispatch}(ThermalGen, PowerSimulations.ThermalDispatch)"
      ]
     },
     "execution_count": 12,
     "metadata": {},
     "output_type": "execute_result"
    }
   ],
   "source": [
    "ED.devices[:ThermalGenerators]"
   ]
  },
  {
   "cell_type": "code",
   "execution_count": 13,
   "metadata": {
    "slideshow": {
     "slide_type": "fragment"
    }
   },
   "outputs": [
    {
     "data": {
      "text/latex": [
       "$ Pth_{Alta,1} \\in \\[0.1, 0.4\\] $"
      ],
      "text/plain": [
       "Pth_{Alta,1} ∈ [0.1, 0.4]"
      ]
     },
     "execution_count": 13,
     "metadata": {},
     "output_type": "execute_result"
    }
   ],
   "source": [
    "ED.canonical_model.constraints[:thermal_active_range][\"Alta\",1]"
   ]
  },
  {
   "cell_type": "code",
   "execution_count": 14,
   "metadata": {
    "slideshow": {
     "slide_type": "fragment"
    }
   },
   "outputs": [
    {
     "data": {
      "text/plain": [
       "Base.KeySet for a Dict{Symbol,JuMP.Containers.DenseAxisArray} with 2 entries. Keys:\n",
       "  :CopperPlateBalance\n",
       "  :thermal_active_range"
      ]
     },
     "execution_count": 14,
     "metadata": {},
     "output_type": "execute_result"
    }
   ],
   "source": [
    "keys(ED.canonical_model.constraints)"
   ]
  },
  {
   "cell_type": "markdown",
   "metadata": {
    "slideshow": {
     "slide_type": "subslide"
    }
   },
   "source": [
    "In a Unit Commitment (UC) model the thermal generators output limits are described as a semi-continuous range."
   ]
  },
  {
   "cell_type": "code",
   "execution_count": 15,
   "metadata": {
    "slideshow": {
     "slide_type": "fragment"
    }
   },
   "outputs": [
    {
     "data": {
      "text/plain": [
       "PowerSimulations.DeviceModel{ThermalGen,PowerSimulations.ThermalUnitCommitment}(ThermalGen, PowerSimulations.ThermalUnitCommitment)"
      ]
     },
     "execution_count": 15,
     "metadata": {},
     "output_type": "execute_result"
    }
   ],
   "source": [
    "UC.devices[:ThermalGenerators]"
   ]
  },
  {
   "cell_type": "code",
   "execution_count": 16,
   "metadata": {
    "slideshow": {
     "slide_type": "fragment"
    }
   },
   "outputs": [
    {
     "data": {
      "text/latex": [
       "$ Pth_{Alta,1} - 0.4 on_th_{Alta,1} \\leq 0.0 $"
      ],
      "text/plain": [
       "Pth_{Alta,1} - 0.4 on_th_{Alta,1} ≤ 0.0"
      ]
     },
     "metadata": {},
     "output_type": "display_data"
    },
    {
     "data": {
      "text/latex": [
       "$ Pth_{Alta,1} - 0.1 on_th_{Alta,1} \\geq 0.0 $"
      ],
      "text/plain": [
       "Pth_{Alta,1} - 0.1 on_th_{Alta,1} ≥ 0.0"
      ]
     },
     "metadata": {},
     "output_type": "display_data"
    }
   ],
   "source": [
    "display(UC.canonical_model.constraints[:thermal_active_range_ub][\"Alta\",1])\n",
    "display(UC.canonical_model.constraints[:thermal_active_range_lb][\"Alta\",1])"
   ]
  },
  {
   "cell_type": "code",
   "execution_count": 17,
   "metadata": {
    "slideshow": {
     "slide_type": "fragment"
    }
   },
   "outputs": [
    {
     "data": {
      "text/plain": [
       "Base.KeySet for a Dict{Symbol,JuMP.Containers.DenseAxisArray} with 8 entries. Keys:\n",
       "  :CopperPlateBalance\n",
       "  :thermal_active_range_ub\n",
       "  :ramp_thermal_up\n",
       "  :ramp_thermal_down\n",
       "  :commitment_th\n",
       "  :time_up\n",
       "  :thermal_active_range_lb\n",
       "  :time_down"
      ]
     },
     "execution_count": 17,
     "metadata": {},
     "output_type": "execute_result"
    }
   ],
   "source": [
    "keys(UC.canonical_model.constraints)"
   ]
  },
  {
   "cell_type": "markdown",
   "metadata": {
    "slideshow": {
     "slide_type": "subslide"
    }
   },
   "source": [
    "### Mixing and Changing Device Formulations \n",
    "\n",
    "A common requirement is the capability to define different device models for a particular problem in order to answer questions about the system's operation under different conditions. <br />\n",
    "\n",
    "For instance, how does the system dispatch change when the units have little flexibility? "
   ]
  },
  {
   "cell_type": "code",
   "execution_count": 31,
   "metadata": {
    "slideshow": {
     "slide_type": "fragment"
    }
   },
   "outputs": [
    {
     "data": {
      "text/plain": [
       "1-dimensional DenseAxisArray{ConstraintRef,1,...} with index sets:\n",
       "    Dimension 1, [\"Park City\", \"Solitude\", \"Sundance\", \"Brighton\"]\n",
       "And data, a 4-element Array{ConstraintRef,1}:\n",
       " Pth_{Park City,1} - Pth_{Park City,2} ≤ 30.0            \n",
       " Pth_{Solitude,1} - Pth_{Solitude,2} ≤ 31.200000000000003\n",
       " Pth_{Sundance,1} - Pth_{Sundance,2} ≤ 30.0              \n",
       " Pth_{Brighton,1} - Pth_{Brighton,2} ≤ 30.0              "
      ]
     },
     "execution_count": 31,
     "metadata": {},
     "output_type": "execute_result"
    }
   ],
   "source": [
    "ED.devices[:ThermalGenerators] = PSI.DeviceModel(PSY.ThermalGen, PSI.ThermalRampLimited)\n",
    "PSI.build_op_model!(ED);\n",
    "ED.canonical_model.constraints[:ramp_thermal_up][:,2]"
   ]
  },
  {
   "cell_type": "markdown",
   "metadata": {
    "slideshow": {
     "slide_type": "slide"
    }
   },
   "source": [
    "## Network Representation \n",
    "\n",
    "- For a combination of devices in the system, `PowerSimulations.jl` can specify the network formulation independently in the model. \n",
    "- By collaborating with researchers from LANL, we have integrated `PowerSystems.jl` (NREL) and `PowerSimulations.jl` (NREL) with `PowerModels.jl` (LANL) to enable nonlinear AC power flow representations and relaxations.\n",
    "- This feature expands the modeling capabilities to perform research with a broader scope, including the use convex optimization models for AC power flow.\n",
    "\n",
    "<img src=\"SIIP-Design-Demo/network.png\" alt=\"device_spec\" width=\"80%\" style=\"padding-left: 25mm;\">"
   ]
  },
  {
   "cell_type": "code",
   "execution_count": 19,
   "metadata": {
    "slideshow": {
     "slide_type": "subslide"
    }
   },
   "outputs": [],
   "source": [
    "EDPF = PSI.EconomicDispatch(sys5b_th, PSI.StandardPTDFForm ; optimizer = GLPK_optimizer, PTDF = PTDF);"
   ]
  },
  {
   "cell_type": "code",
   "execution_count": 20,
   "metadata": {
    "slideshow": {
     "slide_type": "fragment"
    }
   },
   "outputs": [
    {
     "data": {
      "text/plain": [
       "CopperPlatePowerModel"
      ]
     },
     "metadata": {},
     "output_type": "display_data"
    },
    {
     "data": {
      "text/latex": [
       "$ Pth_{Alta,1} + Pth_{Park City,1} + Pth_{Solitude,1} + Pth_{Sundance,1} + Pth_{Brighton,1} = 8.356660648 $"
      ],
      "text/plain": [
       "Pth_{Alta,1} + Pth_{Park City,1} + Pth_{Solitude,1} + Pth_{Sundance,1} + Pth_{Brighton,1} = 8.356660648"
      ]
     },
     "execution_count": 20,
     "metadata": {},
     "output_type": "execute_result"
    }
   ],
   "source": [
    "display(ED.transmission)\n",
    "ED.canonical_model.constraints[:CopperPlateBalance][1]"
   ]
  },
  {
   "cell_type": "code",
   "execution_count": 21,
   "metadata": {
    "slideshow": {
     "slide_type": "subslide"
    }
   },
   "outputs": [
    {
     "data": {
      "text/plain": [
       "StandardPTDFForm"
      ]
     },
     "metadata": {},
     "output_type": "display_data"
    },
    {
     "data": {
      "text/latex": [
       "$ Fbr_{1,1} - 0.1939166051164976 Pth_{Alta,1} - 0.1939166051164976 Pth_{Park City,1} + 0.34898945813469434 Pth_{Solitude,1} - 0.1595380380044316 Pth_{Brighton,1} = 2.001896928292487 $"
      ],
      "text/plain": [
       "Fbr_{1,1} - 0.1939166051164976 Pth_{Alta,1} - 0.1939166051164976 Pth_{Park City,1} + 0.34898945813469434 Pth_{Solitude,1} - 0.1595380380044316 Pth_{Brighton,1} = 2.001896928292487"
      ]
     },
     "metadata": {},
     "output_type": "display_data"
    },
    {
     "data": {
      "text/latex": [
       "$ Pth_{Alta,1} + Pth_{Park City,1} - Fbr_{1,1} - Fbr_{2,1} - Fbr_{3,1} = 0.0 $"
      ],
      "text/plain": [
       "Pth_{Alta,1} + Pth_{Park City,1} - Fbr_{1,1} - Fbr_{2,1} - Fbr_{3,1} = 0.0"
      ]
     },
     "metadata": {},
     "output_type": "display_data"
    }
   ],
   "source": [
    "display(EDPF.transmission)\n",
    "display(EDPF.canonical_model.constraints[:network_flow][\"1\",1])\n",
    "display(EDPF.canonical_model.constraints[:nodal_balance][\"nodeA\",1])"
   ]
  },
  {
   "cell_type": "code",
   "execution_count": 22,
   "metadata": {
    "slideshow": {
     "slide_type": "fragment"
    }
   },
   "outputs": [],
   "source": [
    "ED_AC= PSI.EconomicDispatch(sys5b_th, PM.StandardACPForm ; optimizer = ipopt_optimizer);"
   ]
  },
  {
   "cell_type": "markdown",
   "metadata": {
    "slideshow": {
     "slide_type": "subslide"
    }
   },
   "source": [
    "This capability is supported by the use of `JuMP.DenseAxisArrays` to keep track of the affine expressions (`AffnExpr`) that make up for the total injections at the nodes at each time-step."
   ]
  },
  {
   "cell_type": "code",
   "execution_count": 23,
   "metadata": {
    "slideshow": {
     "slide_type": "fragment"
    }
   },
   "outputs": [
    {
     "data": {
      "text/plain": [
       "5×2 Array{GenericAffExpr{Float64,VariableRef},2}:\n",
       " Pth_{Alta,1} + Pth_{Park City,1}  Pth_{Alta,2} + Pth_{Park City,2}\n",
       " -2.378189934                      -2.169604722                    \n",
       " Pth_{Solitude,1} - 2.493281346    Pth_{Solitude,2} - 2.069589684  \n",
       " Pth_{Sundance,1} - 3.485189368    Pth_{Sundance,2} - 2.681958996  \n",
       " Pth_{Brighton,1}                  Pth_{Brighton,2}                "
      ]
     },
     "execution_count": 23,
     "metadata": {},
     "output_type": "execute_result"
    }
   ],
   "source": [
    "ED_AC.canonical_model.expressions[:var_active]"
   ]
  },
  {
   "cell_type": "code",
   "execution_count": 24,
   "metadata": {
    "slideshow": {
     "slide_type": "fragment"
    }
   },
   "outputs": [
    {
     "data": {
      "text/plain": [
       "5×2 Array{GenericAffExpr{Float64,VariableRef},2}:\n",
       " Qth_{Alta,1} + Qth_{Park City,1}       Qth_{Alta,2} + Qth_{Park City,2}  \n",
       " -0.7817110313058                       -0.7131490721214                  \n",
       " Qth_{Solitude,1} - 0.8195415784301999  Qth_{Solitude,2} - 0.6802741291308\n",
       " Qth_{Sundance,1} - 1.1454946155274     Qth_{Sundance,2} - 0.8814928730103\n",
       " Qth_{Brighton,1}                       Qth_{Brighton,2}                  "
      ]
     },
     "execution_count": 24,
     "metadata": {},
     "output_type": "execute_result"
    }
   ],
   "source": [
    "ED_AC.canonical_model.expressions[:var_reactive]"
   ]
  },
  {
   "cell_type": "markdown",
   "metadata": {
    "slideshow": {
     "slide_type": "slide"
    }
   },
   "source": [
    "## Services Representation - WIP\n",
    "\n",
    "- Most available open source models have limited representation for services required by the system to integrate large amounts of renewable energy. \n",
    "- A major line of research is developing new services or market products that operators need to add in order to integrate more renewable energy. \n",
    "- `PowerSimulations.jl` includes a specification for services based on the formulation and the collection of devices that participate in the provision of the service."
   ]
  },
  {
   "cell_type": "markdown",
   "metadata": {
    "slideshow": {
     "slide_type": "subslide"
    }
   },
   "source": [
    "<center><img src=\"SIIP-Design-Demo/services.png\" alt=\"device_spec\" width=\"80%\"></center>"
   ]
  },
  {
   "cell_type": "markdown",
   "metadata": {
    "slideshow": {
     "slide_type": "slide"
    }
   },
   "source": [
    "## Design Principle 2: Modularity\n",
    "The design of `PowerSimulations.jl` separates all the modeling by device, network, and service, and wraps it all into single struct. \n",
    "\n",
    "<center><img src=\"SIIP-Design-Demo/opt_model_full.png\" alt=\"opt_spec\" width=\"60%\"></center>"
   ]
  },
  {
   "cell_type": "code",
   "execution_count": 25,
   "metadata": {
    "slideshow": {
     "slide_type": "subslide"
    }
   },
   "outputs": [
    {
     "data": {
      "text/plain": [
       "Dict{Symbol,PowerSimulations.DeviceModel} with 3 entries:\n",
       "  :ThermalGenerators   => DeviceModel{ThermalGen,ThermalRampLimited}(ThermalGen…\n",
       "  :RenewableGenerators => DeviceModel{RenewableGen,RenewableFullDispatch}(Renew…\n",
       "  :Loads               => DeviceModel{PowerLoad,StaticPowerLoad}(PowerLoad, Sta…"
      ]
     },
     "metadata": {},
     "output_type": "display_data"
    }
   ],
   "source": [
    "display(ED.devices)"
   ]
  },
  {
   "cell_type": "code",
   "execution_count": 26,
   "metadata": {},
   "outputs": [
    {
     "data": {
      "text/plain": [
       "Dict{Symbol,PowerSimulations.DeviceModel} with 1 entry:\n",
       "  :Lines => DeviceModel{Branch,SeriesLine}(Branch, SeriesLine)"
      ]
     },
     "metadata": {},
     "output_type": "display_data"
    },
    {
     "data": {
      "text/plain": [
       "CopperPlatePowerModel"
      ]
     },
     "metadata": {},
     "output_type": "display_data"
    }
   ],
   "source": [
    "display(ED.branches)\n",
    "display(ED.transmission)"
   ]
  },
  {
   "cell_type": "code",
   "execution_count": 27,
   "metadata": {},
   "outputs": [
    {
     "data": {
      "text/plain": [
       "Dict{Symbol,PowerSimulations.ServiceModel} with 1 entry:\n",
       "  :Reserves => ServiceModel{Reserve,AbstractReservesForm}(Reserve, AbstractRese…"
      ]
     },
     "metadata": {},
     "output_type": "display_data"
    }
   ],
   "source": [
    "display(ED.services)"
   ]
  },
  {
   "cell_type": "code",
   "execution_count": 40,
   "metadata": {
    "slideshow": {
     "slide_type": "subslide"
    }
   },
   "outputs": [
    {
     "data": {
      "text/plain": [
       "5×2 Array{GenericAffExpr{Float64,VariableRef},2}:\n",
       " Pth_{Alta,1} + Pth_{Park City,1} - Fbr_{1,1} - Fbr_{2,1} - Fbr_{3,1}  …  Pth_{Alta,2} + Pth_{Park City,2} - Fbr_{1,2} - Fbr_{2,2} - Fbr_{3,2}\n",
       " Fbr_{1,1} - Fbr_{4,1} - 2.378189934                                      Fbr_{1,2} - Fbr_{4,2} - 2.169604722                                 \n",
       " Pth_{Solitude,1} + Fbr_{4,1} - Fbr_{5,1} - 2.493281346                   Pth_{Solitude,2} + Fbr_{4,2} - Fbr_{5,2} - 2.069589684              \n",
       " Pth_{Sundance,1} + Fbr_{2,1} + Fbr_{5,1} - Fbr_{6,1} - 3.485189368       Pth_{Sundance,2} + Fbr_{2,2} + Fbr_{5,2} - Fbr_{6,2} - 2.681958996  \n",
       " Pth_{Brighton,1} + Fbr_{3,1} + Fbr_{6,1}                                 Pth_{Brighton,2} + Fbr_{3,2} + Fbr_{6,2}                            "
      ]
     },
     "execution_count": 40,
     "metadata": {},
     "output_type": "execute_result"
    }
   ],
   "source": [
    "EDPF.canonical_model.expressions[:var_active]"
   ]
  },
  {
   "cell_type": "code",
   "execution_count": 29,
   "metadata": {},
   "outputs": [
    {
     "data": {
      "text/html": [
       "<table class=\"data-frame\"><thead><tr><th></th><th>Alta</th><th>Park City</th><th>Solitude</th><th>Sundance</th><th>Brighton</th></tr><tr><th></th><th>Float64</th><th>Float64</th><th>Float64</th><th>Float64</th><th>Float64</th></tr></thead><tbody><p>2 rows × 5 columns</p><tr><th>1</th><td>0.4</td><td>1.7</td><td>0.16</td><td>0.1</td><td>6.0</td></tr><tr><th>2</th><td>0.4</td><td>0.32</td><td>0.1</td><td>0.1</td><td>6.0</td></tr></tbody></table>"
      ],
      "text/latex": [
       "\\begin{tabular}{r|ccccc}\n",
       "\t& Alta & Park City & Solitude & Sundance & Brighton\\\\\n",
       "\t\\hline\n",
       "\t& Float64 & Float64 & Float64 & Float64 & Float64\\\\\n",
       "\t\\hline\n",
       "\t1 & 0.4 & 1.7 & 0.16 & 0.1 & 6.0 \\\\\n",
       "\t2 & 0.4 & 0.32 & 0.1 & 0.1 & 6.0 \\\\\n",
       "\\end{tabular}\n"
      ],
      "text/plain": [
       "2×5 DataFrame\n",
       "│ Row │ Alta    │ Park City │ Solitude │ Sundance │ Brighton │\n",
       "│     │ \u001b[90mFloat64\u001b[39m │ \u001b[90mFloat64\u001b[39m   │ \u001b[90mFloat64\u001b[39m  │ \u001b[90mFloat64\u001b[39m  │ \u001b[90mFloat64\u001b[39m  │\n",
       "├─────┼─────────┼───────────┼──────────┼──────────┼──────────┤\n",
       "│ 1   │ 0.4     │ 1.7       │ 0.16     │ 0.1      │ 6.0      │\n",
       "│ 2   │ 0.4     │ 0.32      │ 0.1      │ 0.1      │ 6.0      │"
      ]
     },
     "execution_count": 29,
     "metadata": {},
     "output_type": "execute_result"
    }
   ],
   "source": [
    "ED.canonical_model.constraints"
   ]
  },
  {
   "cell_type": "code",
   "execution_count": 42,
   "metadata": {},
   "outputs": [
    {
     "data": {
      "text/plain": [
       "Dict{Symbol,Any} with 3 entries:\n",
       "  :dual_status        => NO_SOLUTION\n",
       "  :primal_status      => FEASIBLE_POINT\n",
       "  :termination_status => OPTIMAL"
      ]
     },
     "execution_count": 42,
     "metadata": {},
     "output_type": "execute_result"
    }
   ],
   "source": [
    "res = solve_op_model!(UC, optimizer = GLPK_optimizer);\n",
    "res.optimizer_log"
   ]
  },
  {
   "cell_type": "markdown",
   "metadata": {
    "slideshow": {
     "slide_type": "slide"
    }
   },
   "source": [
    "## Design Principle 3: Scalability\n",
    "\n",
    "- Power system operational models need to be run at large scales: 50,000+ buses, 5000+ generators at 5 minute resolution. \n",
    "- The third layer defines the mechanics of executing many operational models depending on the type of analysis required. \n",
    "- This feature is under development right now. "
   ]
  },
  {
   "cell_type": "markdown",
   "metadata": {
    "slideshow": {
     "slide_type": "subslide"
    }
   },
   "source": [
    "<center><img src=\"SIIP-Design-Demo/sim_model.png\" alt=\"opt_spec\" width=\"75%\"></center>"
   ]
  },
  {
   "cell_type": "markdown",
   "metadata": {
    "slideshow": {
     "slide_type": "subslide"
    }
   },
   "source": [
    "### Use of `StructJuMP.jl` + `PowerSimulations.jl` for Expansion Problem Definition\n",
    "\n",
    "- Simplify the problem specification phases to develop algorithms and decomposition methods for large scale problems of this nature. \n",
    "- Incorporate operational models with the appropriate level of detail and resolution into expansion decision-making models. \n",
    "\n",
    "<center><img src=\"SIIP-Design-Demo/struct_jump.png\" alt=\"opt_spec\" width=\"40%\"></center>"
   ]
  },
  {
   "cell_type": "markdown",
   "metadata": {
    "slideshow": {
     "slide_type": "slide"
    }
   },
   "source": [
    "## Next Steps \n",
    "\n",
    "- Develop type structures for more devices and branches. \n",
    "- Explore mechanisms to update Affine Expression constants in nodal power balance equations when updating time-series data and avoid model rebuilding. \n",
    " - Use `ParameterJuMP` or use `MOI` constraint modification?\n",
    "- Develop compiling operational model that can be deployed in a self-contained form.\n",
    "- Use the experience gained and developed structure to build `Systems` and `Simulations` packages for water and gas. "
   ]
  }
 ],
 "metadata": {
  "anaconda-cloud": {},
  "celltoolbar": "Slideshow",
  "kernelspec": {
   "display_name": "Julia 1.1.0",
   "language": "julia",
   "name": "julia-1.1"
  },
  "language_info": {
   "file_extension": ".jl",
   "mimetype": "application/julia",
   "name": "julia",
   "version": "1.1.0"
  },
  "livereveal": {}
 },
 "nbformat": 4,
 "nbformat_minor": 2
}
